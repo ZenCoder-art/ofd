{
 "cells": [
  {
   "cell_type": "markdown",
   "metadata": {},
   "source": [
    "# 模型融合(Ensemble Learning)技术"
   ]
  },
  {
   "cell_type": "markdown",
   "metadata": {},
   "source": [
    "<center><img src=\"http://ml2022.oss-cn-hangzhou.aliyuncs.com/img/image-20221101183239483.png\" alt=\"image-20221101183239483\" style=\"zoom:50%;\" />"
   ]
  },
  {
   "cell_type": "code",
   "execution_count": 1,
   "metadata": {},
   "outputs": [],
   "source": [
    "import joblib\n",
    "import pathlib\n",
    "import warnings\n",
    "import time\n",
    "\n",
    "import pandas as pd\n",
    "import numpy as np\n",
    "\n",
    "warnings.filterwarnings(\"ignore\")\n",
    "pd.set_option(\"display.max_columns\", None)\n",
    "pd.set_option(\"display.max_rows\", None)\n",
    "\n",
    "PROCESSED_DATA_DIR = pathlib.Path(\"../dataset/processed\")\n",
    "BASEMODEL_DIR = pathlib.Path(\"../app/models/base-models\")\n",
    "EXTERNAL_DIR = pathlib.Path(\"../dataset/external\")"
   ]
  },
  {
   "cell_type": "markdown",
   "metadata": {},
   "source": [
    "## 加载数据"
   ]
  },
  {
   "cell_type": "markdown",
   "metadata": {},
   "source": [
    "### 加载数据集"
   ]
  },
  {
   "cell_type": "code",
   "execution_count": 2,
   "metadata": {},
   "outputs": [
    {
     "data": {
      "text/plain": [
       "fraudulent\n",
       "0    12632\n",
       "1     8452\n",
       "Name: count, dtype: int64"
      ]
     },
     "execution_count": 2,
     "metadata": {},
     "output_type": "execute_result"
    }
   ],
   "source": [
    "from sklearn.model_selection import train_test_split\n",
    "\n",
    "inputs = joblib.load(PROCESSED_DATA_DIR / \"inputs.joblib\")\n",
    "target = joblib.load(PROCESSED_DATA_DIR / \"target.joblib\")\n",
    "X_train, X_test, y_train, y_test = train_test_split(inputs, target, test_size=0.25, random_state=42, stratify=target)\n",
    "y_train.value_counts()"
   ]
  },
  {
   "cell_type": "markdown",
   "metadata": {},
   "source": [
    "### 加载预处理器"
   ]
  },
  {
   "cell_type": "code",
   "execution_count": 3,
   "metadata": {},
   "outputs": [
    {
     "data": {
      "text/html": [
       "<style>#sk-container-id-1 {\n",
       "  /* Definition of color scheme common for light and dark mode */\n",
       "  --sklearn-color-text: #000;\n",
       "  --sklearn-color-text-muted: #666;\n",
       "  --sklearn-color-line: gray;\n",
       "  /* Definition of color scheme for unfitted estimators */\n",
       "  --sklearn-color-unfitted-level-0: #fff5e6;\n",
       "  --sklearn-color-unfitted-level-1: #f6e4d2;\n",
       "  --sklearn-color-unfitted-level-2: #ffe0b3;\n",
       "  --sklearn-color-unfitted-level-3: chocolate;\n",
       "  /* Definition of color scheme for fitted estimators */\n",
       "  --sklearn-color-fitted-level-0: #f0f8ff;\n",
       "  --sklearn-color-fitted-level-1: #d4ebff;\n",
       "  --sklearn-color-fitted-level-2: #b3dbfd;\n",
       "  --sklearn-color-fitted-level-3: cornflowerblue;\n",
       "\n",
       "  /* Specific color for light theme */\n",
       "  --sklearn-color-text-on-default-background: var(--sg-text-color, var(--theme-code-foreground, var(--jp-content-font-color1, black)));\n",
       "  --sklearn-color-background: var(--sg-background-color, var(--theme-background, var(--jp-layout-color0, white)));\n",
       "  --sklearn-color-border-box: var(--sg-text-color, var(--theme-code-foreground, var(--jp-content-font-color1, black)));\n",
       "  --sklearn-color-icon: #696969;\n",
       "\n",
       "  @media (prefers-color-scheme: dark) {\n",
       "    /* Redefinition of color scheme for dark theme */\n",
       "    --sklearn-color-text-on-default-background: var(--sg-text-color, var(--theme-code-foreground, var(--jp-content-font-color1, white)));\n",
       "    --sklearn-color-background: var(--sg-background-color, var(--theme-background, var(--jp-layout-color0, #111)));\n",
       "    --sklearn-color-border-box: var(--sg-text-color, var(--theme-code-foreground, var(--jp-content-font-color1, white)));\n",
       "    --sklearn-color-icon: #878787;\n",
       "  }\n",
       "}\n",
       "\n",
       "#sk-container-id-1 {\n",
       "  color: var(--sklearn-color-text);\n",
       "}\n",
       "\n",
       "#sk-container-id-1 pre {\n",
       "  padding: 0;\n",
       "}\n",
       "\n",
       "#sk-container-id-1 input.sk-hidden--visually {\n",
       "  border: 0;\n",
       "  clip: rect(1px 1px 1px 1px);\n",
       "  clip: rect(1px, 1px, 1px, 1px);\n",
       "  height: 1px;\n",
       "  margin: -1px;\n",
       "  overflow: hidden;\n",
       "  padding: 0;\n",
       "  position: absolute;\n",
       "  width: 1px;\n",
       "}\n",
       "\n",
       "#sk-container-id-1 div.sk-dashed-wrapped {\n",
       "  border: 1px dashed var(--sklearn-color-line);\n",
       "  margin: 0 0.4em 0.5em 0.4em;\n",
       "  box-sizing: border-box;\n",
       "  padding-bottom: 0.4em;\n",
       "  background-color: var(--sklearn-color-background);\n",
       "}\n",
       "\n",
       "#sk-container-id-1 div.sk-container {\n",
       "  /* jupyter's `normalize.less` sets `[hidden] { display: none; }`\n",
       "     but bootstrap.min.css set `[hidden] { display: none !important; }`\n",
       "     so we also need the `!important` here to be able to override the\n",
       "     default hidden behavior on the sphinx rendered scikit-learn.org.\n",
       "     See: https://github.com/scikit-learn/scikit-learn/issues/21755 */\n",
       "  display: inline-block !important;\n",
       "  position: relative;\n",
       "}\n",
       "\n",
       "#sk-container-id-1 div.sk-text-repr-fallback {\n",
       "  display: none;\n",
       "}\n",
       "\n",
       "div.sk-parallel-item,\n",
       "div.sk-serial,\n",
       "div.sk-item {\n",
       "  /* draw centered vertical line to link estimators */\n",
       "  background-image: linear-gradient(var(--sklearn-color-text-on-default-background), var(--sklearn-color-text-on-default-background));\n",
       "  background-size: 2px 100%;\n",
       "  background-repeat: no-repeat;\n",
       "  background-position: center center;\n",
       "}\n",
       "\n",
       "/* Parallel-specific style estimator block */\n",
       "\n",
       "#sk-container-id-1 div.sk-parallel-item::after {\n",
       "  content: \"\";\n",
       "  width: 100%;\n",
       "  border-bottom: 2px solid var(--sklearn-color-text-on-default-background);\n",
       "  flex-grow: 1;\n",
       "}\n",
       "\n",
       "#sk-container-id-1 div.sk-parallel {\n",
       "  display: flex;\n",
       "  align-items: stretch;\n",
       "  justify-content: center;\n",
       "  background-color: var(--sklearn-color-background);\n",
       "  position: relative;\n",
       "}\n",
       "\n",
       "#sk-container-id-1 div.sk-parallel-item {\n",
       "  display: flex;\n",
       "  flex-direction: column;\n",
       "}\n",
       "\n",
       "#sk-container-id-1 div.sk-parallel-item:first-child::after {\n",
       "  align-self: flex-end;\n",
       "  width: 50%;\n",
       "}\n",
       "\n",
       "#sk-container-id-1 div.sk-parallel-item:last-child::after {\n",
       "  align-self: flex-start;\n",
       "  width: 50%;\n",
       "}\n",
       "\n",
       "#sk-container-id-1 div.sk-parallel-item:only-child::after {\n",
       "  width: 0;\n",
       "}\n",
       "\n",
       "/* Serial-specific style estimator block */\n",
       "\n",
       "#sk-container-id-1 div.sk-serial {\n",
       "  display: flex;\n",
       "  flex-direction: column;\n",
       "  align-items: center;\n",
       "  background-color: var(--sklearn-color-background);\n",
       "  padding-right: 1em;\n",
       "  padding-left: 1em;\n",
       "}\n",
       "\n",
       "\n",
       "/* Toggleable style: style used for estimator/Pipeline/ColumnTransformer box that is\n",
       "clickable and can be expanded/collapsed.\n",
       "- Pipeline and ColumnTransformer use this feature and define the default style\n",
       "- Estimators will overwrite some part of the style using the `sk-estimator` class\n",
       "*/\n",
       "\n",
       "/* Pipeline and ColumnTransformer style (default) */\n",
       "\n",
       "#sk-container-id-1 div.sk-toggleable {\n",
       "  /* Default theme specific background. It is overwritten whether we have a\n",
       "  specific estimator or a Pipeline/ColumnTransformer */\n",
       "  background-color: var(--sklearn-color-background);\n",
       "}\n",
       "\n",
       "/* Toggleable label */\n",
       "#sk-container-id-1 label.sk-toggleable__label {\n",
       "  cursor: pointer;\n",
       "  display: flex;\n",
       "  width: 100%;\n",
       "  margin-bottom: 0;\n",
       "  padding: 0.5em;\n",
       "  box-sizing: border-box;\n",
       "  text-align: center;\n",
       "  align-items: start;\n",
       "  justify-content: space-between;\n",
       "  gap: 0.5em;\n",
       "}\n",
       "\n",
       "#sk-container-id-1 label.sk-toggleable__label .caption {\n",
       "  font-size: 0.6rem;\n",
       "  font-weight: lighter;\n",
       "  color: var(--sklearn-color-text-muted);\n",
       "}\n",
       "\n",
       "#sk-container-id-1 label.sk-toggleable__label-arrow:before {\n",
       "  /* Arrow on the left of the label */\n",
       "  content: \"▸\";\n",
       "  float: left;\n",
       "  margin-right: 0.25em;\n",
       "  color: var(--sklearn-color-icon);\n",
       "}\n",
       "\n",
       "#sk-container-id-1 label.sk-toggleable__label-arrow:hover:before {\n",
       "  color: var(--sklearn-color-text);\n",
       "}\n",
       "\n",
       "/* Toggleable content - dropdown */\n",
       "\n",
       "#sk-container-id-1 div.sk-toggleable__content {\n",
       "  max-height: 0;\n",
       "  max-width: 0;\n",
       "  overflow: hidden;\n",
       "  text-align: left;\n",
       "  /* unfitted */\n",
       "  background-color: var(--sklearn-color-unfitted-level-0);\n",
       "}\n",
       "\n",
       "#sk-container-id-1 div.sk-toggleable__content.fitted {\n",
       "  /* fitted */\n",
       "  background-color: var(--sklearn-color-fitted-level-0);\n",
       "}\n",
       "\n",
       "#sk-container-id-1 div.sk-toggleable__content pre {\n",
       "  margin: 0.2em;\n",
       "  border-radius: 0.25em;\n",
       "  color: var(--sklearn-color-text);\n",
       "  /* unfitted */\n",
       "  background-color: var(--sklearn-color-unfitted-level-0);\n",
       "}\n",
       "\n",
       "#sk-container-id-1 div.sk-toggleable__content.fitted pre {\n",
       "  /* unfitted */\n",
       "  background-color: var(--sklearn-color-fitted-level-0);\n",
       "}\n",
       "\n",
       "#sk-container-id-1 input.sk-toggleable__control:checked~div.sk-toggleable__content {\n",
       "  /* Expand drop-down */\n",
       "  max-height: 200px;\n",
       "  max-width: 100%;\n",
       "  overflow: auto;\n",
       "}\n",
       "\n",
       "#sk-container-id-1 input.sk-toggleable__control:checked~label.sk-toggleable__label-arrow:before {\n",
       "  content: \"▾\";\n",
       "}\n",
       "\n",
       "/* Pipeline/ColumnTransformer-specific style */\n",
       "\n",
       "#sk-container-id-1 div.sk-label input.sk-toggleable__control:checked~label.sk-toggleable__label {\n",
       "  color: var(--sklearn-color-text);\n",
       "  background-color: var(--sklearn-color-unfitted-level-2);\n",
       "}\n",
       "\n",
       "#sk-container-id-1 div.sk-label.fitted input.sk-toggleable__control:checked~label.sk-toggleable__label {\n",
       "  background-color: var(--sklearn-color-fitted-level-2);\n",
       "}\n",
       "\n",
       "/* Estimator-specific style */\n",
       "\n",
       "/* Colorize estimator box */\n",
       "#sk-container-id-1 div.sk-estimator input.sk-toggleable__control:checked~label.sk-toggleable__label {\n",
       "  /* unfitted */\n",
       "  background-color: var(--sklearn-color-unfitted-level-2);\n",
       "}\n",
       "\n",
       "#sk-container-id-1 div.sk-estimator.fitted input.sk-toggleable__control:checked~label.sk-toggleable__label {\n",
       "  /* fitted */\n",
       "  background-color: var(--sklearn-color-fitted-level-2);\n",
       "}\n",
       "\n",
       "#sk-container-id-1 div.sk-label label.sk-toggleable__label,\n",
       "#sk-container-id-1 div.sk-label label {\n",
       "  /* The background is the default theme color */\n",
       "  color: var(--sklearn-color-text-on-default-background);\n",
       "}\n",
       "\n",
       "/* On hover, darken the color of the background */\n",
       "#sk-container-id-1 div.sk-label:hover label.sk-toggleable__label {\n",
       "  color: var(--sklearn-color-text);\n",
       "  background-color: var(--sklearn-color-unfitted-level-2);\n",
       "}\n",
       "\n",
       "/* Label box, darken color on hover, fitted */\n",
       "#sk-container-id-1 div.sk-label.fitted:hover label.sk-toggleable__label.fitted {\n",
       "  color: var(--sklearn-color-text);\n",
       "  background-color: var(--sklearn-color-fitted-level-2);\n",
       "}\n",
       "\n",
       "/* Estimator label */\n",
       "\n",
       "#sk-container-id-1 div.sk-label label {\n",
       "  font-family: monospace;\n",
       "  font-weight: bold;\n",
       "  display: inline-block;\n",
       "  line-height: 1.2em;\n",
       "}\n",
       "\n",
       "#sk-container-id-1 div.sk-label-container {\n",
       "  text-align: center;\n",
       "}\n",
       "\n",
       "/* Estimator-specific */\n",
       "#sk-container-id-1 div.sk-estimator {\n",
       "  font-family: monospace;\n",
       "  border: 1px dotted var(--sklearn-color-border-box);\n",
       "  border-radius: 0.25em;\n",
       "  box-sizing: border-box;\n",
       "  margin-bottom: 0.5em;\n",
       "  /* unfitted */\n",
       "  background-color: var(--sklearn-color-unfitted-level-0);\n",
       "}\n",
       "\n",
       "#sk-container-id-1 div.sk-estimator.fitted {\n",
       "  /* fitted */\n",
       "  background-color: var(--sklearn-color-fitted-level-0);\n",
       "}\n",
       "\n",
       "/* on hover */\n",
       "#sk-container-id-1 div.sk-estimator:hover {\n",
       "  /* unfitted */\n",
       "  background-color: var(--sklearn-color-unfitted-level-2);\n",
       "}\n",
       "\n",
       "#sk-container-id-1 div.sk-estimator.fitted:hover {\n",
       "  /* fitted */\n",
       "  background-color: var(--sklearn-color-fitted-level-2);\n",
       "}\n",
       "\n",
       "/* Specification for estimator info (e.g. \"i\" and \"?\") */\n",
       "\n",
       "/* Common style for \"i\" and \"?\" */\n",
       "\n",
       ".sk-estimator-doc-link,\n",
       "a:link.sk-estimator-doc-link,\n",
       "a:visited.sk-estimator-doc-link {\n",
       "  float: right;\n",
       "  font-size: smaller;\n",
       "  line-height: 1em;\n",
       "  font-family: monospace;\n",
       "  background-color: var(--sklearn-color-background);\n",
       "  border-radius: 1em;\n",
       "  height: 1em;\n",
       "  width: 1em;\n",
       "  text-decoration: none !important;\n",
       "  margin-left: 0.5em;\n",
       "  text-align: center;\n",
       "  /* unfitted */\n",
       "  border: var(--sklearn-color-unfitted-level-1) 1pt solid;\n",
       "  color: var(--sklearn-color-unfitted-level-1);\n",
       "}\n",
       "\n",
       ".sk-estimator-doc-link.fitted,\n",
       "a:link.sk-estimator-doc-link.fitted,\n",
       "a:visited.sk-estimator-doc-link.fitted {\n",
       "  /* fitted */\n",
       "  border: var(--sklearn-color-fitted-level-1) 1pt solid;\n",
       "  color: var(--sklearn-color-fitted-level-1);\n",
       "}\n",
       "\n",
       "/* On hover */\n",
       "div.sk-estimator:hover .sk-estimator-doc-link:hover,\n",
       ".sk-estimator-doc-link:hover,\n",
       "div.sk-label-container:hover .sk-estimator-doc-link:hover,\n",
       ".sk-estimator-doc-link:hover {\n",
       "  /* unfitted */\n",
       "  background-color: var(--sklearn-color-unfitted-level-3);\n",
       "  color: var(--sklearn-color-background);\n",
       "  text-decoration: none;\n",
       "}\n",
       "\n",
       "div.sk-estimator.fitted:hover .sk-estimator-doc-link.fitted:hover,\n",
       ".sk-estimator-doc-link.fitted:hover,\n",
       "div.sk-label-container:hover .sk-estimator-doc-link.fitted:hover,\n",
       ".sk-estimator-doc-link.fitted:hover {\n",
       "  /* fitted */\n",
       "  background-color: var(--sklearn-color-fitted-level-3);\n",
       "  color: var(--sklearn-color-background);\n",
       "  text-decoration: none;\n",
       "}\n",
       "\n",
       "/* Span, style for the box shown on hovering the info icon */\n",
       ".sk-estimator-doc-link span {\n",
       "  display: none;\n",
       "  z-index: 9999;\n",
       "  position: relative;\n",
       "  font-weight: normal;\n",
       "  right: .2ex;\n",
       "  padding: .5ex;\n",
       "  margin: .5ex;\n",
       "  width: min-content;\n",
       "  min-width: 20ex;\n",
       "  max-width: 50ex;\n",
       "  color: var(--sklearn-color-text);\n",
       "  box-shadow: 2pt 2pt 4pt #999;\n",
       "  /* unfitted */\n",
       "  background: var(--sklearn-color-unfitted-level-0);\n",
       "  border: .5pt solid var(--sklearn-color-unfitted-level-3);\n",
       "}\n",
       "\n",
       ".sk-estimator-doc-link.fitted span {\n",
       "  /* fitted */\n",
       "  background: var(--sklearn-color-fitted-level-0);\n",
       "  border: var(--sklearn-color-fitted-level-3);\n",
       "}\n",
       "\n",
       ".sk-estimator-doc-link:hover span {\n",
       "  display: block;\n",
       "}\n",
       "\n",
       "/* \"?\"-specific style due to the `<a>` HTML tag */\n",
       "\n",
       "#sk-container-id-1 a.estimator_doc_link {\n",
       "  float: right;\n",
       "  font-size: 1rem;\n",
       "  line-height: 1em;\n",
       "  font-family: monospace;\n",
       "  background-color: var(--sklearn-color-background);\n",
       "  border-radius: 1rem;\n",
       "  height: 1rem;\n",
       "  width: 1rem;\n",
       "  text-decoration: none;\n",
       "  /* unfitted */\n",
       "  color: var(--sklearn-color-unfitted-level-1);\n",
       "  border: var(--sklearn-color-unfitted-level-1) 1pt solid;\n",
       "}\n",
       "\n",
       "#sk-container-id-1 a.estimator_doc_link.fitted {\n",
       "  /* fitted */\n",
       "  border: var(--sklearn-color-fitted-level-1) 1pt solid;\n",
       "  color: var(--sklearn-color-fitted-level-1);\n",
       "}\n",
       "\n",
       "/* On hover */\n",
       "#sk-container-id-1 a.estimator_doc_link:hover {\n",
       "  /* unfitted */\n",
       "  background-color: var(--sklearn-color-unfitted-level-3);\n",
       "  color: var(--sklearn-color-background);\n",
       "  text-decoration: none;\n",
       "}\n",
       "\n",
       "#sk-container-id-1 a.estimator_doc_link.fitted:hover {\n",
       "  /* fitted */\n",
       "  background-color: var(--sklearn-color-fitted-level-3);\n",
       "}\n",
       "</style><div id=\"sk-container-id-1\" class=\"sk-top-container\"><div class=\"sk-text-repr-fallback\"><pre>ColumnTransformer(n_jobs=-1,\n",
       "                  transformers=[(&#x27;TfidfVectorizer&#x27;,\n",
       "                                 TfidfVectorizer(max_df=0.4, max_features=800,\n",
       "                                                 min_df=0.1, ngram_range=(1, 2),\n",
       "                                                 stop_words=[&#x27;ｃ］&#x27;, &#x27;㈧&#x27;, &#x27;不可抗拒&#x27;,\n",
       "                                                             &#x27;leg&#x27;, &#x27;豁然&#x27;,\n",
       "                                                             &#x27;himself&#x27;, &#x27;个别&#x27;,\n",
       "                                                             &#x27;着呢&#x27;, &#x27;plant&#x27;,\n",
       "                                                             &#x27;怎么&#x27;, &#x27;不单&#x27;, &#x27;但愿&#x27;,\n",
       "                                                             &#x27;从优&#x27;, &#x27;pretty&#x27;,\n",
       "                                                             &#x27;［①⑧］&#x27;, &#x27;election&#x27;,\n",
       "                                                             &#x27;通过&#x27;, &#x27;如次&#x27;, &#x27;road&#x27;,\n",
       "                                                             &#x27;尔&#x27;, &#x27;勃然&#x27;, &#x27;上去&#x27;,\n",
       "                                                             &#x27;促进&#x27;, &#x27;较比&#x27;, &#x27;/&#x27;,\n",
       "                                                             &#x27;长线&#x27;, &#x27;walshmouth&#x27;,\n",
       "                                                             &#x27;sit&#x27;,\n",
       "                                                             &#x27;discussion&#x27;,\n",
       "                                                             &#x27;office&#x27;, ...],\n",
       "                                                 sublin...\n",
       "                                                 token_pattern=&#x27;(?u)\\\\b[a-zA-Z]{2,}\\\\b&#x27;),\n",
       "                                 &#x27;text&#x27;),\n",
       "                                (&#x27;OrdinalEncoder&#x27;,\n",
       "                                 OrdinalEncoder(handle_unknown=&#x27;use_encoded_value&#x27;,\n",
       "                                                unknown_value=-1),\n",
       "                                 [&#x27;required_education&#x27;, &#x27;required_experience&#x27;]),\n",
       "                                (&#x27;OneHotEncoder&#x27;,\n",
       "                                 OneHotEncoder(handle_unknown=&#x27;ignore&#x27;),\n",
       "                                 [&#x27;employment_type&#x27;, &#x27;function&#x27;, &#x27;location&#x27;,\n",
       "                                  &#x27;department&#x27;, &#x27;industry&#x27;]),\n",
       "                                (&#x27;MinMaxScaler&#x27;, MinMaxScaler(),\n",
       "                                 [&#x27;salary&#x27;, &#x27;text_length&#x27;])])</pre><b>In a Jupyter environment, please rerun this cell to show the HTML representation or trust the notebook. <br />On GitHub, the HTML representation is unable to render, please try loading this page with nbviewer.org.</b></div><div class=\"sk-container\" hidden><div class=\"sk-item sk-dashed-wrapped\"><div class=\"sk-label-container\"><div class=\"sk-label  sk-toggleable\"><input class=\"sk-toggleable__control sk-hidden--visually\" id=\"sk-estimator-id-1\" type=\"checkbox\" ><label for=\"sk-estimator-id-1\" class=\"sk-toggleable__label  sk-toggleable__label-arrow\"><div><div>ColumnTransformer</div></div><div><a class=\"sk-estimator-doc-link \" rel=\"noreferrer\" target=\"_blank\" href=\"https://scikit-learn.org/1.6/modules/generated/sklearn.compose.ColumnTransformer.html\">?<span>Documentation for ColumnTransformer</span></a><span class=\"sk-estimator-doc-link \">i<span>Not fitted</span></span></div></label><div class=\"sk-toggleable__content \"><pre>ColumnTransformer(n_jobs=-1,\n",
       "                  transformers=[(&#x27;TfidfVectorizer&#x27;,\n",
       "                                 TfidfVectorizer(max_df=0.4, max_features=800,\n",
       "                                                 min_df=0.1, ngram_range=(1, 2),\n",
       "                                                 stop_words=[&#x27;ｃ］&#x27;, &#x27;㈧&#x27;, &#x27;不可抗拒&#x27;,\n",
       "                                                             &#x27;leg&#x27;, &#x27;豁然&#x27;,\n",
       "                                                             &#x27;himself&#x27;, &#x27;个别&#x27;,\n",
       "                                                             &#x27;着呢&#x27;, &#x27;plant&#x27;,\n",
       "                                                             &#x27;怎么&#x27;, &#x27;不单&#x27;, &#x27;但愿&#x27;,\n",
       "                                                             &#x27;从优&#x27;, &#x27;pretty&#x27;,\n",
       "                                                             &#x27;［①⑧］&#x27;, &#x27;election&#x27;,\n",
       "                                                             &#x27;通过&#x27;, &#x27;如次&#x27;, &#x27;road&#x27;,\n",
       "                                                             &#x27;尔&#x27;, &#x27;勃然&#x27;, &#x27;上去&#x27;,\n",
       "                                                             &#x27;促进&#x27;, &#x27;较比&#x27;, &#x27;/&#x27;,\n",
       "                                                             &#x27;长线&#x27;, &#x27;walshmouth&#x27;,\n",
       "                                                             &#x27;sit&#x27;,\n",
       "                                                             &#x27;discussion&#x27;,\n",
       "                                                             &#x27;office&#x27;, ...],\n",
       "                                                 sublin...\n",
       "                                                 token_pattern=&#x27;(?u)\\\\b[a-zA-Z]{2,}\\\\b&#x27;),\n",
       "                                 &#x27;text&#x27;),\n",
       "                                (&#x27;OrdinalEncoder&#x27;,\n",
       "                                 OrdinalEncoder(handle_unknown=&#x27;use_encoded_value&#x27;,\n",
       "                                                unknown_value=-1),\n",
       "                                 [&#x27;required_education&#x27;, &#x27;required_experience&#x27;]),\n",
       "                                (&#x27;OneHotEncoder&#x27;,\n",
       "                                 OneHotEncoder(handle_unknown=&#x27;ignore&#x27;),\n",
       "                                 [&#x27;employment_type&#x27;, &#x27;function&#x27;, &#x27;location&#x27;,\n",
       "                                  &#x27;department&#x27;, &#x27;industry&#x27;]),\n",
       "                                (&#x27;MinMaxScaler&#x27;, MinMaxScaler(),\n",
       "                                 [&#x27;salary&#x27;, &#x27;text_length&#x27;])])</pre></div> </div></div><div class=\"sk-parallel\"><div class=\"sk-parallel-item\"><div class=\"sk-item\"><div class=\"sk-label-container\"><div class=\"sk-label  sk-toggleable\"><input class=\"sk-toggleable__control sk-hidden--visually\" id=\"sk-estimator-id-2\" type=\"checkbox\" ><label for=\"sk-estimator-id-2\" class=\"sk-toggleable__label  sk-toggleable__label-arrow\"><div><div>TfidfVectorizer</div></div></label><div class=\"sk-toggleable__content \"><pre>text</pre></div> </div></div><div class=\"sk-serial\"><div class=\"sk-item\"><div class=\"sk-estimator  sk-toggleable\"><input class=\"sk-toggleable__control sk-hidden--visually\" id=\"sk-estimator-id-3\" type=\"checkbox\" ><label for=\"sk-estimator-id-3\" class=\"sk-toggleable__label  sk-toggleable__label-arrow\"><div><div>TfidfVectorizer</div></div><div><a class=\"sk-estimator-doc-link \" rel=\"noreferrer\" target=\"_blank\" href=\"https://scikit-learn.org/1.6/modules/generated/sklearn.feature_extraction.text.TfidfVectorizer.html\">?<span>Documentation for TfidfVectorizer</span></a></div></label><div class=\"sk-toggleable__content \"><pre>TfidfVectorizer(max_df=0.4, max_features=800, min_df=0.1, ngram_range=(1, 2),\n",
       "                stop_words=[&#x27;ｃ］&#x27;, &#x27;㈧&#x27;, &#x27;不可抗拒&#x27;, &#x27;leg&#x27;, &#x27;豁然&#x27;, &#x27;himself&#x27;, &#x27;个别&#x27;,\n",
       "                            &#x27;着呢&#x27;, &#x27;plant&#x27;, &#x27;怎么&#x27;, &#x27;不单&#x27;, &#x27;但愿&#x27;, &#x27;从优&#x27;, &#x27;pretty&#x27;,\n",
       "                            &#x27;［①⑧］&#x27;, &#x27;election&#x27;, &#x27;通过&#x27;, &#x27;如次&#x27;, &#x27;road&#x27;, &#x27;尔&#x27;, &#x27;勃然&#x27;,\n",
       "                            &#x27;上去&#x27;, &#x27;促进&#x27;, &#x27;较比&#x27;, &#x27;/&#x27;, &#x27;长线&#x27;, &#x27;walshmouth&#x27;, &#x27;sit&#x27;,\n",
       "                            &#x27;discussion&#x27;, &#x27;office&#x27;, ...],\n",
       "                sublinear_tf=True, token_pattern=&#x27;(?u)\\\\b[a-zA-Z]{2,}\\\\b&#x27;)</pre></div> </div></div></div></div></div><div class=\"sk-parallel-item\"><div class=\"sk-item\"><div class=\"sk-label-container\"><div class=\"sk-label  sk-toggleable\"><input class=\"sk-toggleable__control sk-hidden--visually\" id=\"sk-estimator-id-4\" type=\"checkbox\" ><label for=\"sk-estimator-id-4\" class=\"sk-toggleable__label  sk-toggleable__label-arrow\"><div><div>OrdinalEncoder</div></div></label><div class=\"sk-toggleable__content \"><pre>[&#x27;required_education&#x27;, &#x27;required_experience&#x27;]</pre></div> </div></div><div class=\"sk-serial\"><div class=\"sk-item\"><div class=\"sk-estimator  sk-toggleable\"><input class=\"sk-toggleable__control sk-hidden--visually\" id=\"sk-estimator-id-5\" type=\"checkbox\" ><label for=\"sk-estimator-id-5\" class=\"sk-toggleable__label  sk-toggleable__label-arrow\"><div><div>OrdinalEncoder</div></div><div><a class=\"sk-estimator-doc-link \" rel=\"noreferrer\" target=\"_blank\" href=\"https://scikit-learn.org/1.6/modules/generated/sklearn.preprocessing.OrdinalEncoder.html\">?<span>Documentation for OrdinalEncoder</span></a></div></label><div class=\"sk-toggleable__content \"><pre>OrdinalEncoder(handle_unknown=&#x27;use_encoded_value&#x27;, unknown_value=-1)</pre></div> </div></div></div></div></div><div class=\"sk-parallel-item\"><div class=\"sk-item\"><div class=\"sk-label-container\"><div class=\"sk-label  sk-toggleable\"><input class=\"sk-toggleable__control sk-hidden--visually\" id=\"sk-estimator-id-6\" type=\"checkbox\" ><label for=\"sk-estimator-id-6\" class=\"sk-toggleable__label  sk-toggleable__label-arrow\"><div><div>OneHotEncoder</div></div></label><div class=\"sk-toggleable__content \"><pre>[&#x27;employment_type&#x27;, &#x27;function&#x27;, &#x27;location&#x27;, &#x27;department&#x27;, &#x27;industry&#x27;]</pre></div> </div></div><div class=\"sk-serial\"><div class=\"sk-item\"><div class=\"sk-estimator  sk-toggleable\"><input class=\"sk-toggleable__control sk-hidden--visually\" id=\"sk-estimator-id-7\" type=\"checkbox\" ><label for=\"sk-estimator-id-7\" class=\"sk-toggleable__label  sk-toggleable__label-arrow\"><div><div>OneHotEncoder</div></div><div><a class=\"sk-estimator-doc-link \" rel=\"noreferrer\" target=\"_blank\" href=\"https://scikit-learn.org/1.6/modules/generated/sklearn.preprocessing.OneHotEncoder.html\">?<span>Documentation for OneHotEncoder</span></a></div></label><div class=\"sk-toggleable__content \"><pre>OneHotEncoder(handle_unknown=&#x27;ignore&#x27;)</pre></div> </div></div></div></div></div><div class=\"sk-parallel-item\"><div class=\"sk-item\"><div class=\"sk-label-container\"><div class=\"sk-label  sk-toggleable\"><input class=\"sk-toggleable__control sk-hidden--visually\" id=\"sk-estimator-id-8\" type=\"checkbox\" ><label for=\"sk-estimator-id-8\" class=\"sk-toggleable__label  sk-toggleable__label-arrow\"><div><div>MinMaxScaler</div></div></label><div class=\"sk-toggleable__content \"><pre>[&#x27;salary&#x27;, &#x27;text_length&#x27;]</pre></div> </div></div><div class=\"sk-serial\"><div class=\"sk-item\"><div class=\"sk-estimator  sk-toggleable\"><input class=\"sk-toggleable__control sk-hidden--visually\" id=\"sk-estimator-id-9\" type=\"checkbox\" ><label for=\"sk-estimator-id-9\" class=\"sk-toggleable__label  sk-toggleable__label-arrow\"><div><div>MinMaxScaler</div></div><div><a class=\"sk-estimator-doc-link \" rel=\"noreferrer\" target=\"_blank\" href=\"https://scikit-learn.org/1.6/modules/generated/sklearn.preprocessing.MinMaxScaler.html\">?<span>Documentation for MinMaxScaler</span></a></div></label><div class=\"sk-toggleable__content \"><pre>MinMaxScaler()</pre></div> </div></div></div></div></div></div></div></div></div>"
      ],
      "text/plain": [
       "ColumnTransformer(n_jobs=-1,\n",
       "                  transformers=[('TfidfVectorizer',\n",
       "                                 TfidfVectorizer(max_df=0.4, max_features=800,\n",
       "                                                 min_df=0.1, ngram_range=(1, 2),\n",
       "                                                 stop_words=['ｃ］', '㈧', '不可抗拒',\n",
       "                                                             'leg', '豁然',\n",
       "                                                             'himself', '个别',\n",
       "                                                             '着呢', 'plant',\n",
       "                                                             '怎么', '不单', '但愿',\n",
       "                                                             '从优', 'pretty',\n",
       "                                                             '［①⑧］', 'election',\n",
       "                                                             '通过', '如次', 'road',\n",
       "                                                             '尔', '勃然', '上去',\n",
       "                                                             '促进', '较比', '/',\n",
       "                                                             '长线', 'walshmouth',\n",
       "                                                             'sit',\n",
       "                                                             'discussion',\n",
       "                                                             'office', ...],\n",
       "                                                 sublin...\n",
       "                                                 token_pattern='(?u)\\\\b[a-zA-Z]{2,}\\\\b'),\n",
       "                                 'text'),\n",
       "                                ('OrdinalEncoder',\n",
       "                                 OrdinalEncoder(handle_unknown='use_encoded_value',\n",
       "                                                unknown_value=-1),\n",
       "                                 ['required_education', 'required_experience']),\n",
       "                                ('OneHotEncoder',\n",
       "                                 OneHotEncoder(handle_unknown='ignore'),\n",
       "                                 ['employment_type', 'function', 'location',\n",
       "                                  'department', 'industry']),\n",
       "                                ('MinMaxScaler', MinMaxScaler(),\n",
       "                                 ['salary', 'text_length'])])"
      ]
     },
     "execution_count": 3,
     "metadata": {},
     "output_type": "execute_result"
    }
   ],
   "source": [
    "preprocessor = joblib.load(PROCESSED_DATA_DIR / \"preprocessor.joblib\")\n",
    "preprocessor"
   ]
  },
  {
   "cell_type": "markdown",
   "metadata": {},
   "source": [
    "### 加载基础模型"
   ]
  },
  {
   "cell_type": "code",
   "execution_count": 4,
   "metadata": {},
   "outputs": [],
   "source": [
    "tree = joblib.load(BASEMODEL_DIR / \"DecisionTreeClassifier.joblib\")\n",
    "lr = joblib.load(BASEMODEL_DIR / \"LogisticRegression.joblib\")\n",
    "rf = joblib.load(BASEMODEL_DIR / \"RandomForestClassifier.joblib\")"
   ]
  },
  {
   "cell_type": "markdown",
   "metadata": {},
   "source": [
    "## 投票法(Voting)"
   ]
  },
  {
   "cell_type": "markdown",
   "metadata": {},
   "source": [
    "首先如果模型最终输出的是类别判别结果，则可以通过投票法进行模型融合，投票法会根据**少数服从多数**的规则进行结果输出，例如现有A、B、C、D、E五个模型对现有数据进行预测，结果如下："
   ]
  },
  {
   "cell_type": "markdown",
   "metadata": {},
   "source": [
    "<table>\n",
    "  <tr>\n",
    "    <th rowspan=\"2\">样本</th>\n",
    "    <th colspan=\"5\">单模预测结果</th>\n",
    "    <th colspan=\"2\">投票结果</th>\n",
    "    <th>最终预测结果</th>\n",
    "  </tr>\n",
    "  <tr>\n",
    "    <th>模型A</th>\n",
    "    <th>模型B</th>\n",
    "    <th>模型C</th>\n",
    "    <th>模型D</th>\n",
    "    <th>模型E</th>\n",
    "    <th>预测为0</th>\n",
    "    <th>预测为1</th>\n",
    "    <th>规则：少数服从多数</th>\n",
    "  </tr>\n",
    "  <tr>\n",
    "    <td>1</td>\n",
    "    <td>1</td>\n",
    "    <td>1</td>\n",
    "    <td>1</td>\n",
    "    <td>1</td>\n",
    "    <td>0</td>\n",
    "    <td>1</td>\n",
    "    <td>4</td>\n",
    "    <td>1</td>\n",
    "  </tr>\n",
    "  <tr>\n",
    "    <td>2</td>\n",
    "    <td>1</td>\n",
    "    <td>1</td>\n",
    "    <td>1</td>\n",
    "    <td>0</td>\n",
    "    <td>0</td>\n",
    "    <td>2</td>\n",
    "    <td>3</td>\n",
    "    <td>1</td>\n",
    "  </tr>\n",
    "  <tr>\n",
    "    <td>3</td>\n",
    "    <td>1</td>\n",
    "    <td>1</td>\n",
    "    <td>0</td>\n",
    "    <td>0</td>\n",
    "    <td>0</td>\n",
    "    <td>3</td>\n",
    "    <td>2</td>\n",
    "    <td>0</td>\n",
    "  </tr>\n",
    "  <tr>\n",
    "    <td>4</td>\n",
    "    <td>1</td>\n",
    "    <td>0</td>\n",
    "    <td>0</td>\n",
    "    <td>0</td>\n",
    "    <td>0</td>\n",
    "    <td>4</td>\n",
    "    <td>1</td>\n",
    "    <td>0</td>\n",
    "  </tr>\n",
    "</table>"
   ]
  },
  {
   "cell_type": "markdown",
   "metadata": {},
   "source": [
    "&emsp;&emsp;而这样的一个投票集成的过程，到底能带来多少性能上的提升呢？从理论上来说，根据[Narasimhamurthy,2003]()研究表明，在多样性构建的比较好的情况下，投票融合性能边界如下："
   ]
  },
  {
   "cell_type": "markdown",
   "metadata": {},
   "source": [
    "<center><img src=\"https://s2.loli.net/2022/05/20/uVrzS79LaBsJgKp.png\" alt=\"image-20220520122231347\" style=\"zoom:33%;\" />"
   ]
  },
  {
   "cell_type": "markdown",
   "metadata": {},
   "source": [
    "能够看出，在单体分类器准确率为80%左右（较为普遍的情况）时，模型投票融合能有平均约15%的准确率提升。当然，该理论实际上是基于分类器相互独立的假设推导而来，而在大多数真实场景下，该假设并不成立，因此该理论的结论可以视作一个理论上限，并不能代表一般情况。"
   ]
  },
  {
   "cell_type": "markdown",
   "metadata": {},
   "source": [
    "### 硬投票(Hard Voting)"
   ]
  },
  {
   "cell_type": "code",
   "execution_count": 5,
   "metadata": {},
   "outputs": [],
   "source": [
    "from sklearn.ensemble import VotingClassifier"
   ]
  },
  {
   "cell_type": "code",
   "execution_count": 6,
   "metadata": {},
   "outputs": [],
   "source": [
    "estimators = [\n",
    "    (\"tree\", tree),\n",
    "    (\"lr\", lr),\n",
    "    (\"rf\", rf),\n",
    "]"
   ]
  },
  {
   "cell_type": "code",
   "execution_count": 7,
   "metadata": {},
   "outputs": [
    {
     "name": "stdout",
     "output_type": "stream",
     "text": [
      "[Pipeline] ...... (step 1 of 2) Processing preprocessor, total=   5.6s\n",
      "[Pipeline]  (step 2 of 2) Processing DecisionTreeClassifier, total=   0.1s\n",
      "[Pipeline] ...... (step 1 of 2) Processing preprocessor, total=   4.9s\n",
      "[Pipeline] ..... (step 2 of 2) Processing SGDClassifier, total=   0.3s\n",
      "[Pipeline] ...... (step 1 of 2) Processing preprocessor, total=   4.7s\n",
      "[Pipeline]  (step 2 of 2) Processing RandomForestClassifier, total=   3.8s\n",
      "HardVotingClassifier训练花费的时间为: 19.3394 秒\n"
     ]
    }
   ],
   "source": [
    "hard_vc = VotingClassifier(estimators, voting=\"hard\")\n",
    "start_time = time.time()\n",
    "hard_vc.fit(X_train, y_train)\n",
    "end_time = time.time()\n",
    "print(f\"HardVotingClassifier训练花费的时间为: {(end_time-start_time):.4f} 秒\")"
   ]
  },
  {
   "cell_type": "code",
   "execution_count": 8,
   "metadata": {},
   "outputs": [],
   "source": [
    "from sklearn.metrics import cohen_kappa_score, recall_score, roc_auc_score\n",
    "\n",
    "cohen_kappa_score_list = []\n",
    "recall_score_list = []\n",
    "roc_auc_score_list = []"
   ]
  },
  {
   "cell_type": "code",
   "execution_count": 9,
   "metadata": {},
   "outputs": [],
   "source": [
    "cohen_kappa_score_list.append(cohen_kappa_score(y_test, hard_vc.predict(X_test)))\n",
    "recall_score_list.append(recall_score(y_test, hard_vc.predict(X_test)))\n",
    "roc_auc_score_list.append(roc_auc_score(y_test, hard_vc.predict(X_test)))"
   ]
  },
  {
   "cell_type": "markdown",
   "metadata": {},
   "source": [
    "### 软投票(Soft Voting)"
   ]
  },
  {
   "cell_type": "code",
   "execution_count": 10,
   "metadata": {},
   "outputs": [
    {
     "name": "stdout",
     "output_type": "stream",
     "text": [
      "[Pipeline] ...... (step 1 of 2) Processing preprocessor, total=   4.3s\n",
      "[Pipeline]  (step 2 of 2) Processing DecisionTreeClassifier, total=   0.1s\n",
      "[Pipeline] ...... (step 1 of 2) Processing preprocessor, total=   4.3s\n",
      "[Pipeline] ..... (step 2 of 2) Processing SGDClassifier, total=   0.2s\n",
      "[Pipeline] ...... (step 1 of 2) Processing preprocessor, total=   4.0s\n",
      "[Pipeline]  (step 2 of 2) Processing RandomForestClassifier, total=   3.8s\n",
      "SoftVotingClassifier 训练花费的时间为: 16.7130 秒\n"
     ]
    }
   ],
   "source": [
    "soft_vc = VotingClassifier(estimators, voting=\"soft\")\n",
    "start_time = time.time()\n",
    "soft_vc.fit(X_train, y_train)\n",
    "end_time = time.time()\n",
    "print(f\"SoftVotingClassifier 训练花费的时间为: {(end_time-start_time):.4f} 秒\")"
   ]
  },
  {
   "cell_type": "code",
   "execution_count": 11,
   "metadata": {},
   "outputs": [],
   "source": [
    "cohen_kappa_score_list.append(cohen_kappa_score(y_test, soft_vc.predict(X_test)))\n",
    "recall_score_list.append(recall_score(y_test, soft_vc.predict(X_test)))\n",
    "roc_auc_score_list.append(roc_auc_score(y_test, soft_vc.predict(X_test)))"
   ]
  },
  {
   "cell_type": "markdown",
   "metadata": {},
   "source": [
    "## 均值法"
   ]
  },
  {
   "cell_type": "markdown",
   "metadata": {},
   "source": [
    "### 权重设计策略"
   ]
  },
  {
   "cell_type": "markdown",
   "metadata": {},
   "source": [
    "#### 平均为主，博采众长"
   ]
  },
  {
   "cell_type": "code",
   "execution_count": 12,
   "metadata": {},
   "outputs": [
    {
     "data": {
      "text/plain": [
       "[0.9611079491557579, 0.9718744071333713, 1.0]"
      ]
     },
     "execution_count": 12,
     "metadata": {},
     "output_type": "execute_result"
    }
   ],
   "source": [
    "weight1 = tree.score(X_train, y_train)\n",
    "weight2 = lr.score(X_train, y_train)\n",
    "weight3 = rf.score(X_train, y_train)\n",
    "weights = [weight1, weight2, weight3]\n",
    "weights"
   ]
  },
  {
   "cell_type": "code",
   "execution_count": 13,
   "metadata": {},
   "outputs": [
    {
     "name": "stdout",
     "output_type": "stream",
     "text": [
      "[Pipeline] ...... (step 1 of 2) Processing preprocessor, total=   4.0s\n",
      "[Pipeline]  (step 2 of 2) Processing DecisionTreeClassifier, total=   0.1s\n",
      "[Pipeline] ...... (step 1 of 2) Processing preprocessor, total=   4.0s\n",
      "[Pipeline] ..... (step 2 of 2) Processing SGDClassifier, total=   0.2s\n",
      "[Pipeline] ...... (step 1 of 2) Processing preprocessor, total=   4.4s\n",
      "[Pipeline]  (step 2 of 2) Processing RandomForestClassifier, total=   3.9s\n",
      "SoftVotingClassifierWithWeight训练花费的时间为: 16.6367 秒\n"
     ]
    }
   ],
   "source": [
    "soft_vc_weight = VotingClassifier(\n",
    "    estimators=estimators, \n",
    "    voting='soft', \n",
    "    weights=weights\n",
    ")\n",
    "start_time = time.time()\n",
    "soft_vc_weight.fit(X_train, y_train)\n",
    "end_time = time.time()\n",
    "print(f\"SoftVotingClassifierWithWeight训练花费的时间为: {(end_time-start_time):.4f} 秒\")"
   ]
  },
  {
   "cell_type": "code",
   "execution_count": 14,
   "metadata": {},
   "outputs": [],
   "source": [
    "cohen_kappa_score_list.append(cohen_kappa_score(y_test, soft_vc_weight.predict(X_test)))\n",
    "recall_score_list.append(recall_score(y_test, soft_vc_weight.predict(X_test))\n",
    ")\n",
    "roc_auc_score_list.append(roc_auc_score(y_test, soft_vc_weight.predict(X_test)))"
   ]
  },
  {
   "cell_type": "markdown",
   "metadata": {},
   "source": [
    "#### 设计核心评估器与辅助评估器"
   ]
  },
  {
   "cell_type": "code",
   "execution_count": 15,
   "metadata": {},
   "outputs": [
    {
     "name": "stdout",
     "output_type": "stream",
     "text": [
      "[Pipeline] ...... (step 1 of 2) Processing preprocessor, total=   4.1s\n",
      "[Pipeline]  (step 2 of 2) Processing DecisionTreeClassifier, total=   0.1s\n",
      "[Pipeline] ...... (step 1 of 2) Processing preprocessor, total=   4.2s\n",
      "[Pipeline] ..... (step 2 of 2) Processing SGDClassifier, total=   0.2s\n",
      "[Pipeline] ...... (step 1 of 2) Processing preprocessor, total=   4.2s\n",
      "[Pipeline]  (step 2 of 2) Processing RandomForestClassifier, total=   3.7s\n",
      "SoftVotingClassifierWithCoreWeight训练花费的时间为: 16.6103 秒\n"
     ]
    }
   ],
   "source": [
    "# 由于随机森林模型在分类中表现最佳，因此设置其为核心评估器，其他两个分类模型为辅助评估器\n",
    "# 核心评估器的权重设置为100，其他两个分类器的权重设置为1\n",
    "weight1 = 1\n",
    "weight2 = 1\n",
    "weight3 = 100\n",
    "\n",
    "weights = [weight1, weight2, weight3]\n",
    "soft_vc_core_weight = VotingClassifier(\n",
    "    estimators=estimators, \n",
    "    voting='soft', \n",
    "    weights=weights\n",
    ")\n",
    "start_time = time.time()\n",
    "soft_vc_core_weight.fit(X_train, y_train)\n",
    "end_time = time.time()\n",
    "print(f\"SoftVotingClassifierWithCoreWeight训练花费的时间为: {(end_time-start_time):.4f} 秒\")"
   ]
  },
  {
   "cell_type": "code",
   "execution_count": 16,
   "metadata": {},
   "outputs": [],
   "source": [
    "cohen_kappa_score_list.append(\n",
    "    cohen_kappa_score(y_test, soft_vc_core_weight.predict(X_test))\n",
    ")\n",
    "recall_score_list.append(recall_score(y_test, soft_vc_core_weight.predict(X_test)))\n",
    "roc_auc_score_list.append(roc_auc_score(y_test, soft_vc_core_weight.predict(X_test)))"
   ]
  },
  {
   "cell_type": "markdown",
   "metadata": {},
   "source": [
    "## Stacking法"
   ]
  },
  {
   "cell_type": "markdown",
   "metadata": {},
   "source": [
    "#### 手动实现StackingClassifier"
   ]
  },
  {
   "cell_type": "markdown",
   "metadata": {},
   "source": [
    "构造二级学习器的训练数据"
   ]
  },
  {
   "cell_type": "code",
   "execution_count": 17,
   "metadata": {},
   "outputs": [],
   "source": [
    "train_pre1 = estimators[0][1].predict(X_train)\n",
    "train_pre2 = estimators[1][1].predict(X_train)\n",
    "train_pre3 = estimators[2][1].predict(X_train)\n",
    "train_stack = np.vstack([[train_pre1], [train_pre2], [train_pre3]]).T\n",
    "test_pre1 = estimators[0][1].predict(X_test)\n",
    "test_pre2 = estimators[1][1].predict(X_test)\n",
    "test_pre3 = estimators[2][1].predict(X_test)\n",
    "test_stack = np.vstack([[test_pre1],[test_pre2], [test_pre3]]).T"
   ]
  },
  {
   "cell_type": "code",
   "execution_count": 18,
   "metadata": {},
   "outputs": [
    {
     "name": "stdout",
     "output_type": "stream",
     "text": [
      "ManualStackingClassifier训练花费的时间为: 0.0143 秒\n"
     ]
    }
   ],
   "source": [
    "from sklearn.linear_model import LogisticRegression\n",
    "\n",
    "stacking_model = LogisticRegression(random_state=42)\n",
    "start_time = time.time()\n",
    "stacking_model.fit(train_stack, y_train)\n",
    "end_time = time.time()\n",
    "print(f\"ManualStackingClassifier训练花费的时间为: {(end_time-start_time):.4f} 秒\")"
   ]
  },
  {
   "cell_type": "code",
   "execution_count": 19,
   "metadata": {},
   "outputs": [],
   "source": [
    "cohen_kappa_score_list.append(cohen_kappa_score(y_test, stacking_model.predict(test_stack)))\n",
    "recall_score_list.append(recall_score(y_test, stacking_model.predict(test_stack))\n",
    ")\n",
    "roc_auc_score_list.append(roc_auc_score(y_test, stacking_model.predict(test_stack)))"
   ]
  },
  {
   "cell_type": "markdown",
   "metadata": {},
   "source": [
    "#### sklearn实现"
   ]
  },
  {
   "cell_type": "markdown",
   "metadata": {},
   "source": [
    "StackingClassifier的核心参数解释如下：\n",
    "\n",
    "|参数|解释|\n",
    "|:--:|:--:|\n",
    "|estimators|一级评估器|\n",
    "|final_estimator|二级评估器，默认是逻辑回归|\n",
    "|cv|一级评估器基交叉训练折数|\n",
    "|stack_method|选择概率结果还是类别结果进行元学习器的训练|\n",
    "|passthrough|是否额外带入原始数据特征进行元学习器的训练|"
   ]
  },
  {
   "cell_type": "markdown",
   "metadata": {},
   "source": [
    "* `estimators`参数:参数结构和投票法评估器结构一致，都是需要创建一个由（模型名称、模型）所组成的一个列表。\n",
    "* `final_estimator`参数：元学习器，只需要实例化一个`sklearn`中的评估器即可；\n",
    "* `cv`：一级评估器交叉训练的折数，默认是五折。\n",
    "* `stack_method`：可以选择元学习器的训练数据类型，可选`auto`、`predict_proba`、`decision_function`、`predict`四个不同取值。\n",
    "    * `predict_proba`: 即带入样本类别概率进行训练，\n",
    "    * `decision_function`：是SVM特殊的一种模型输出结果，代表样本到分割超平面的（置信）距离，同样也可以充当类似概率的作用，距离越短，则模型判断越不肯定（相当于概率越趋近于0.5）\n",
    "    * `predict`：则是样本类别结果，相当于是Stacking“硬投票”\n",
    "    * `auto`：默认参数取值，即根据不同模型，按照`predict_proba`>`decision_function`>`predict`的优先级进行参数选择。当然，对于逻辑回归、决策树和随机森林来说，参数输入`auto`时就是根据预测概率训练元学习器。\n",
    "* `passthrough`：是否额外带入原始数据集特征进行元学习器训练，\n",
    "    * 默认参数是`False`：只带入一级学习器的预测结果训练元学习器。\n",
    "    * `True`：拼凑一个由一级学习器输出结果和原始特征共同拼接而成的数据集，用于元学习器的训练。该操作本质上其实是一种特征增强方法，常常用于层级堆叠结构的模型训练过程，包括某些`Boosting`、深度森林的级联训练等，都有可能用到特征增强技术"
   ]
  },
  {
   "cell_type": "code",
   "execution_count": 20,
   "metadata": {},
   "outputs": [],
   "source": [
    "from sklearn.ensemble import StackingClassifier"
   ]
  },
  {
   "cell_type": "markdown",
   "metadata": {},
   "source": [
    "##### StackingClassifier硬投票"
   ]
  },
  {
   "cell_type": "code",
   "execution_count": 21,
   "metadata": {},
   "outputs": [
    {
     "name": "stdout",
     "output_type": "stream",
     "text": [
      "[Pipeline] ...... (step 1 of 2) Processing preprocessor, total=   4.3s\n",
      "[Pipeline]  (step 2 of 2) Processing DecisionTreeClassifier, total=   0.1s\n",
      "[Pipeline] ...... (step 1 of 2) Processing preprocessor, total=   4.1s\n",
      "[Pipeline] ..... (step 2 of 2) Processing SGDClassifier, total=   0.2s\n",
      "[Pipeline] ...... (step 1 of 2) Processing preprocessor, total=   4.2s\n",
      "[Pipeline]  (step 2 of 2) Processing RandomForestClassifier, total=   3.8s\n",
      "[Pipeline] ...... (step 1 of 2) Processing preprocessor, total=   3.5s\n",
      "[Pipeline]  (step 2 of 2) Processing DecisionTreeClassifier, total=   0.1s\n",
      "[Pipeline] ...... (step 1 of 2) Processing preprocessor, total=   3.4s\n",
      "[Pipeline]  (step 2 of 2) Processing DecisionTreeClassifier, total=   0.1s\n",
      "[Pipeline] ...... (step 1 of 2) Processing preprocessor, total=   3.5s\n",
      "[Pipeline]  (step 2 of 2) Processing DecisionTreeClassifier, total=   0.1s\n",
      "[Pipeline] ...... (step 1 of 2) Processing preprocessor, total=   3.4s\n",
      "[Pipeline]  (step 2 of 2) Processing DecisionTreeClassifier, total=   0.1s\n",
      "[Pipeline] ...... (step 1 of 2) Processing preprocessor, total=   3.4s\n",
      "[Pipeline]  (step 2 of 2) Processing DecisionTreeClassifier, total=   0.1s\n",
      "[Pipeline] ...... (step 1 of 2) Processing preprocessor, total=   3.2s\n",
      "[Pipeline] ..... (step 2 of 2) Processing SGDClassifier, total=   0.2s\n",
      "[Pipeline] ...... (step 1 of 2) Processing preprocessor, total=   3.3s\n",
      "[Pipeline] ..... (step 2 of 2) Processing SGDClassifier, total=   0.2s\n",
      "[Pipeline] ...... (step 1 of 2) Processing preprocessor, total=   3.3s\n",
      "[Pipeline] ..... (step 2 of 2) Processing SGDClassifier, total=   0.3s\n",
      "[Pipeline] ...... (step 1 of 2) Processing preprocessor, total=   3.3s\n",
      "[Pipeline] ..... (step 2 of 2) Processing SGDClassifier, total=   0.2s\n",
      "[Pipeline] ...... (step 1 of 2) Processing preprocessor, total=   3.3s\n",
      "[Pipeline] ..... (step 2 of 2) Processing SGDClassifier, total=   0.3s\n",
      "[Pipeline] ...... (step 1 of 2) Processing preprocessor, total=   3.5s\n",
      "[Pipeline]  (step 2 of 2) Processing RandomForestClassifier, total=   2.8s\n",
      "[Pipeline] ...... (step 1 of 2) Processing preprocessor, total=   3.4s\n",
      "[Pipeline]  (step 2 of 2) Processing RandomForestClassifier, total=   2.9s\n",
      "[Pipeline] ...... (step 1 of 2) Processing preprocessor, total=   3.4s\n",
      "[Pipeline]  (step 2 of 2) Processing RandomForestClassifier, total=   2.8s\n",
      "[Pipeline] ...... (step 1 of 2) Processing preprocessor, total=   3.4s\n",
      "[Pipeline]  (step 2 of 2) Processing RandomForestClassifier, total=   2.8s\n",
      "[Pipeline] ...... (step 1 of 2) Processing preprocessor, total=   3.4s\n",
      "[Pipeline]  (step 2 of 2) Processing RandomForestClassifier, total=   2.9s\n",
      "HardStackingClassifier训练花费的时间为: 88.9300 秒\n"
     ]
    }
   ],
   "source": [
    "hard_vsc = StackingClassifier(\n",
    "    estimators=estimators, \n",
    "    final_estimator=LogisticRegression(random_state=42),\n",
    "    stack_method=\"predict\",\n",
    "    cv=5,\n",
    ")\n",
    "start_time = time.time()\n",
    "hard_vsc.fit(X_train, y_train)\n",
    "end_time = time.time()\n",
    "print(f\"HardStackingClassifier训练花费的时间为: {(end_time-start_time):.4f} 秒\")"
   ]
  },
  {
   "cell_type": "code",
   "execution_count": 22,
   "metadata": {},
   "outputs": [],
   "source": [
    "cohen_kappa_score_list.append(cohen_kappa_score(y_test, hard_vsc.predict(X_test)))\n",
    "recall_score_list.append(recall_score(y_test, hard_vsc.predict(X_test)))\n",
    "roc_auc_score_list.append(roc_auc_score(y_test, hard_vsc.predict(X_test)))"
   ]
  },
  {
   "cell_type": "markdown",
   "metadata": {},
   "source": [
    "##### StackingClassifier软投票"
   ]
  },
  {
   "cell_type": "code",
   "execution_count": 23,
   "metadata": {},
   "outputs": [
    {
     "name": "stdout",
     "output_type": "stream",
     "text": [
      "[Pipeline] ...... (step 1 of 2) Processing preprocessor, total=   4.1s\n",
      "[Pipeline]  (step 2 of 2) Processing DecisionTreeClassifier, total=   0.1s\n",
      "[Pipeline] ...... (step 1 of 2) Processing preprocessor, total=   4.2s\n",
      "[Pipeline] ..... (step 2 of 2) Processing SGDClassifier, total=   0.2s\n",
      "[Pipeline] ...... (step 1 of 2) Processing preprocessor, total=   4.2s\n",
      "[Pipeline]  (step 2 of 2) Processing RandomForestClassifier, total=   3.8s\n",
      "[Pipeline] ...... (step 1 of 2) Processing preprocessor, total=   3.4s\n",
      "[Pipeline]  (step 2 of 2) Processing DecisionTreeClassifier, total=   0.1s\n",
      "[Pipeline] ...... (step 1 of 2) Processing preprocessor, total=   3.4s\n",
      "[Pipeline]  (step 2 of 2) Processing DecisionTreeClassifier, total=   0.1s\n",
      "[Pipeline] ...... (step 1 of 2) Processing preprocessor, total=   3.5s\n",
      "[Pipeline]  (step 2 of 2) Processing DecisionTreeClassifier, total=   0.1s\n",
      "[Pipeline] ...... (step 1 of 2) Processing preprocessor, total=   3.3s\n",
      "[Pipeline]  (step 2 of 2) Processing DecisionTreeClassifier, total=   0.1s\n",
      "[Pipeline] ...... (step 1 of 2) Processing preprocessor, total=   3.4s\n",
      "[Pipeline]  (step 2 of 2) Processing DecisionTreeClassifier, total=   0.1s\n",
      "[Pipeline] ...... (step 1 of 2) Processing preprocessor, total=   3.5s\n",
      "[Pipeline] ..... (step 2 of 2) Processing SGDClassifier, total=   0.2s\n",
      "[Pipeline] ...... (step 1 of 2) Processing preprocessor, total=   3.3s\n",
      "[Pipeline] ..... (step 2 of 2) Processing SGDClassifier, total=   0.3s\n",
      "[Pipeline] ...... (step 1 of 2) Processing preprocessor, total=   3.3s\n",
      "[Pipeline] ..... (step 2 of 2) Processing SGDClassifier, total=   0.3s\n",
      "[Pipeline] ...... (step 1 of 2) Processing preprocessor, total=   3.4s\n",
      "[Pipeline] ..... (step 2 of 2) Processing SGDClassifier, total=   0.2s\n",
      "[Pipeline] ...... (step 1 of 2) Processing preprocessor, total=   3.4s\n",
      "[Pipeline] ..... (step 2 of 2) Processing SGDClassifier, total=   0.2s\n",
      "[Pipeline] ...... (step 1 of 2) Processing preprocessor, total=   3.2s\n",
      "[Pipeline]  (step 2 of 2) Processing RandomForestClassifier, total=   2.8s\n",
      "[Pipeline] ...... (step 1 of 2) Processing preprocessor, total=   3.2s\n",
      "[Pipeline]  (step 2 of 2) Processing RandomForestClassifier, total=   2.8s\n",
      "[Pipeline] ...... (step 1 of 2) Processing preprocessor, total=   3.3s\n",
      "[Pipeline]  (step 2 of 2) Processing RandomForestClassifier, total=   2.8s\n",
      "[Pipeline] ...... (step 1 of 2) Processing preprocessor, total=   3.4s\n",
      "[Pipeline]  (step 2 of 2) Processing RandomForestClassifier, total=   2.8s\n",
      "[Pipeline] ...... (step 1 of 2) Processing preprocessor, total=   3.3s\n",
      "[Pipeline]  (step 2 of 2) Processing RandomForestClassifier, total=   2.8s\n",
      "SoftStackingClassifier训练花费的时间为: 88.1261 秒\n"
     ]
    }
   ],
   "source": [
    "soft_vsc = StackingClassifier(\n",
    "    estimators=estimators, \n",
    "    final_estimator=LogisticRegression(random_state=42), \n",
    "    cv=5, \n",
    "    stack_method=\"predict_proba\"\n",
    ")\n",
    "start_time = time.time()\n",
    "soft_vsc.fit(X_train, y_train)\n",
    "end_time = time.time()\n",
    "print(f\"SoftStackingClassifier训练花费的时间为: {(end_time-start_time):.4f} 秒\")"
   ]
  },
  {
   "cell_type": "code",
   "execution_count": 24,
   "metadata": {},
   "outputs": [],
   "source": [
    "cohen_kappa_score_list.append(cohen_kappa_score(y_test, soft_vsc.predict(X_test)))\n",
    "recall_score_list.append(recall_score(y_test, soft_vsc.predict(X_test)))\n",
    "roc_auc_score_list.append(roc_auc_score(y_test, soft_vsc.predict(X_test)))"
   ]
  },
  {
   "cell_type": "markdown",
   "metadata": {},
   "source": [
    "#### 多层Stacking"
   ]
  },
  {
   "cell_type": "markdown",
   "metadata": {},
   "source": [
    "其实从此前的介绍不难看出，Stacking的本质就是围绕上一层模型输出结果进行学习，借此提升最终预测效果。而在这个过程中，元学习器本身也是可以输出概率预测结果的，也就是说，某个元学习器之后还可以再堆叠一层元学习器。而如果两层的堆叠能够提升单模效果，那么双层的堆叠则能够进一步提升学习能力，从而进一步提升模型效果。当然，伴随着Stacking结构更加复杂，融合的过拟合风险也会更高"
   ]
  },
  {
   "cell_type": "code",
   "execution_count": 25,
   "metadata": {},
   "outputs": [
    {
     "name": "stdout",
     "output_type": "stream",
     "text": [
      "[Pipeline] ...... (step 1 of 2) Processing preprocessor, total=   4.3s\n",
      "[Pipeline]  (step 2 of 2) Processing DecisionTreeClassifier, total=   0.1s\n",
      "[Pipeline] ...... (step 1 of 2) Processing preprocessor, total=   4.3s\n",
      "[Pipeline] ..... (step 2 of 2) Processing SGDClassifier, total=   0.3s\n",
      "[Pipeline] ...... (step 1 of 2) Processing preprocessor, total=   4.3s\n",
      "[Pipeline]  (step 2 of 2) Processing RandomForestClassifier, total=   3.8s\n",
      "[Pipeline] ...... (step 1 of 2) Processing preprocessor, total=   4.0s\n",
      "[Pipeline]  (step 2 of 2) Processing DecisionTreeClassifier, total=   0.1s\n",
      "[Pipeline] ...... (step 1 of 2) Processing preprocessor, total=   3.7s\n",
      "[Pipeline]  (step 2 of 2) Processing DecisionTreeClassifier, total=   0.1s\n",
      "[Pipeline] ...... (step 1 of 2) Processing preprocessor, total=   3.8s\n",
      "[Pipeline]  (step 2 of 2) Processing DecisionTreeClassifier, total=   0.1s\n",
      "[Pipeline] ...... (step 1 of 2) Processing preprocessor, total=   3.7s\n",
      "[Pipeline]  (step 2 of 2) Processing DecisionTreeClassifier, total=   0.1s\n",
      "[Pipeline] ...... (step 1 of 2) Processing preprocessor, total=   3.9s\n",
      "[Pipeline]  (step 2 of 2) Processing DecisionTreeClassifier, total=   0.1s\n",
      "[Pipeline] ...... (step 1 of 2) Processing preprocessor, total=   3.7s\n",
      "[Pipeline]  (step 2 of 2) Processing DecisionTreeClassifier, total=   0.1s\n",
      "[Pipeline] ...... (step 1 of 2) Processing preprocessor, total=   3.7s\n",
      "[Pipeline]  (step 2 of 2) Processing DecisionTreeClassifier, total=   0.1s\n",
      "[Pipeline] ...... (step 1 of 2) Processing preprocessor, total=   3.8s\n",
      "[Pipeline]  (step 2 of 2) Processing DecisionTreeClassifier, total=   0.1s\n",
      "[Pipeline] ...... (step 1 of 2) Processing preprocessor, total=   3.7s\n",
      "[Pipeline]  (step 2 of 2) Processing DecisionTreeClassifier, total=   0.1s\n",
      "[Pipeline] ...... (step 1 of 2) Processing preprocessor, total=   3.6s\n",
      "[Pipeline]  (step 2 of 2) Processing DecisionTreeClassifier, total=   0.1s\n",
      "[Pipeline] ...... (step 1 of 2) Processing preprocessor, total=   3.8s\n",
      "[Pipeline] ..... (step 2 of 2) Processing SGDClassifier, total=   0.2s\n",
      "[Pipeline] ...... (step 1 of 2) Processing preprocessor, total=   3.8s\n",
      "[Pipeline] ..... (step 2 of 2) Processing SGDClassifier, total=   0.3s\n",
      "[Pipeline] ...... (step 1 of 2) Processing preprocessor, total=   4.0s\n",
      "[Pipeline] ..... (step 2 of 2) Processing SGDClassifier, total=   0.2s\n",
      "[Pipeline] ...... (step 1 of 2) Processing preprocessor, total=   3.8s\n",
      "[Pipeline] ..... (step 2 of 2) Processing SGDClassifier, total=   0.3s\n",
      "[Pipeline] ...... (step 1 of 2) Processing preprocessor, total=   3.7s\n",
      "[Pipeline] ..... (step 2 of 2) Processing SGDClassifier, total=   0.4s\n",
      "[Pipeline] ...... (step 1 of 2) Processing preprocessor, total=   3.8s\n",
      "[Pipeline] ..... (step 2 of 2) Processing SGDClassifier, total=   0.3s\n",
      "[Pipeline] ...... (step 1 of 2) Processing preprocessor, total=   3.9s\n",
      "[Pipeline] ..... (step 2 of 2) Processing SGDClassifier, total=   0.3s\n",
      "[Pipeline] ...... (step 1 of 2) Processing preprocessor, total=   3.8s\n",
      "[Pipeline] ..... (step 2 of 2) Processing SGDClassifier, total=   0.3s\n",
      "[Pipeline] ...... (step 1 of 2) Processing preprocessor, total=   4.0s\n",
      "[Pipeline] ..... (step 2 of 2) Processing SGDClassifier, total=   0.3s\n",
      "[Pipeline] ...... (step 1 of 2) Processing preprocessor, total=   4.0s\n",
      "[Pipeline] ..... (step 2 of 2) Processing SGDClassifier, total=   0.2s\n",
      "[Pipeline] ...... (step 1 of 2) Processing preprocessor, total=   3.9s\n",
      "[Pipeline]  (step 2 of 2) Processing RandomForestClassifier, total=   3.4s\n",
      "[Pipeline] ...... (step 1 of 2) Processing preprocessor, total=   3.9s\n",
      "[Pipeline]  (step 2 of 2) Processing RandomForestClassifier, total=   3.3s\n",
      "[Pipeline] ...... (step 1 of 2) Processing preprocessor, total=   3.7s\n",
      "[Pipeline]  (step 2 of 2) Processing RandomForestClassifier, total=   3.4s\n",
      "[Pipeline] ...... (step 1 of 2) Processing preprocessor, total=   3.8s\n",
      "[Pipeline]  (step 2 of 2) Processing RandomForestClassifier, total=   3.2s\n",
      "[Pipeline] ...... (step 1 of 2) Processing preprocessor, total=   3.8s\n",
      "[Pipeline]  (step 2 of 2) Processing RandomForestClassifier, total=   3.3s\n",
      "[Pipeline] ...... (step 1 of 2) Processing preprocessor, total=   3.6s\n",
      "[Pipeline]  (step 2 of 2) Processing RandomForestClassifier, total=   3.2s\n",
      "[Pipeline] ...... (step 1 of 2) Processing preprocessor, total=   3.6s\n",
      "[Pipeline]  (step 2 of 2) Processing RandomForestClassifier, total=   3.3s\n",
      "[Pipeline] ...... (step 1 of 2) Processing preprocessor, total=   3.7s\n",
      "[Pipeline]  (step 2 of 2) Processing RandomForestClassifier, total=   3.2s\n",
      "[Pipeline] ...... (step 1 of 2) Processing preprocessor, total=   3.8s\n",
      "[Pipeline]  (step 2 of 2) Processing RandomForestClassifier, total=   3.2s\n",
      "[Pipeline] ...... (step 1 of 2) Processing preprocessor, total=   3.9s\n",
      "[Pipeline]  (step 2 of 2) Processing RandomForestClassifier, total=   3.3s\n",
      "MultiLayerStackingClassifier 训练花费的时间为: 177.6330 秒\n"
     ]
    }
   ],
   "source": [
    "from sklearn.linear_model import LogisticRegression\n",
    "from sklearn.ensemble import RandomForestClassifier\n",
    "\n",
    "log_final = LogisticRegression(random_state=42)\n",
    "rf_final = RandomForestClassifier(random_state=42)\n",
    "final_layer = StackingClassifier(\n",
    "    estimators=[(\"log_final\", log_final), (\"RF_final\", rf_final)],\n",
    "    final_estimator=LogisticRegression(penalty=\"l1\", solver=\"saga\"),\n",
    ")\n",
    "multi_layer = StackingClassifier(\n",
    "    estimators=estimators, final_estimator=final_layer, cv=10\n",
    ")\n",
    "start_time = time.time()\n",
    "multi_layer.fit(X_train, y_train)\n",
    "end_time = time.time()\n",
    "print(f\"MultiLayerStackingClassifier 训练花费的时间为: {(end_time-start_time):.4f} 秒\")"
   ]
  },
  {
   "cell_type": "code",
   "execution_count": 26,
   "metadata": {},
   "outputs": [],
   "source": [
    "cohen_kappa_score_list.append(cohen_kappa_score(y_test, multi_layer.predict(X_test)))\n",
    "recall_score_list.append(recall_score(y_test, multi_layer.predict(X_test)))\n",
    "roc_auc_score_list.append(roc_auc_score(y_test, multi_layer.predict(X_test)))"
   ]
  },
  {
   "cell_type": "markdown",
   "metadata": {},
   "source": [
    "#### Stacking模型融合优化策略"
   ]
  },
  {
   "cell_type": "markdown",
   "metadata": {},
   "source": [
    "`Stacking`模型融合和投票法与均值法类似，原理不难，但要获得一个稳定的优化效果却并没有那么简单。并且相比投票法与均值法，`Stacking`过程采用模型来学习一级评估器的输出结果和标签之间的关系，过拟合的倾向会更加明显。当然，关于`Stacking`容易过拟合的另一个理解的角度是：由于第一层学习器就已经提取了和标签更有关联度的特征，因此元学习器的学习难度偏弱，元学习器更容易过拟合。因此主要的融合优化策略有以下几种：\n",
    "* 一、二级学习器优化：包括一级学习器训练方法优化与元学习器优化。这是最基础同时也是最核心的优化策略，其核心目的在于平衡Stacking融合的学习效果与过拟合倾向之间的关系\n",
    "* 多层`Stacking`，通过叠加更多层来提高`Stacking`的学习效果，当然在大多数情况下解决单层`Stacking`融合的过拟合问题已属实不易，要用好多层`Stacking`则更是难上加难\n",
    "* 特征增强：一级学习器和元学习器带入不同的特征（或衍生特征的）组合，来提高模型多样性，并最终提升Stacking融合效果"
   ]
  },
  {
   "cell_type": "markdown",
   "metadata": {},
   "source": [
    "## Blending法"
   ]
  },
  {
   "cell_type": "markdown",
   "metadata": {},
   "source": [
    "> 该模型的训练还未完成，后续进一步完善！"
   ]
  },
  {
   "cell_type": "markdown",
   "metadata": {},
   "source": [
    "Blending融合的基本过程和Stacking融合较为类似，都是两层模型的基本架构，即都是一级学习器进行训练，然后一级学习器的训练结果带入元学习器进行学习和训练。而和Stacking有所不同的是，为了避免一组数据重复训练导致的过拟合，Blending会在训练集中进一步划分训练集和留出集，一般比例为5：5到9：1不等。其中训练集用于一级学习器的训练，然后一级学习器围绕留出集进行预测，预测结果拼接成类似Stacking中的oof数据集，再将其带入元学习器进行模型训练。至此，即完成了两层模型的训练，其基本过程如下："
   ]
  },
  {
   "cell_type": "markdown",
   "metadata": {},
   "source": [
    "### Blending模型的实现"
   ]
  },
  {
   "cell_type": "markdown",
   "metadata": {},
   "source": [
    "#### 划分训练集和留出集"
   ]
  },
  {
   "cell_type": "markdown",
   "metadata": {},
   "source": [
    "首先，是训练集和留出集的划分，这里我们按照8：2的比例划分进行划分，并将训练集命名为`trainOE`、留出集命名为`leave`"
   ]
  },
  {
   "cell_type": "code",
   "execution_count": 27,
   "metadata": {},
   "outputs": [],
   "source": [
    "# X_trainOE, X_leave, y_trainOE, y_leave = train_test_split(X_train, y_train,  test_size=0.2, random_state=42)\n",
    "# X_trainOE.sample(n=1, random_state=42)"
   ]
  },
  {
   "cell_type": "markdown",
   "metadata": {},
   "source": [
    "#### 一级学习器训练"
   ]
  },
  {
   "cell_type": "markdown",
   "metadata": {},
   "source": [
    "##### 决策树模型"
   ]
  },
  {
   "cell_type": "code",
   "execution_count": 28,
   "metadata": {},
   "outputs": [],
   "source": [
    "# from sklearn.pipeline import Pipeline\n",
    "\n",
    "# tree = Pipeline(\n",
    "#     steps=[\n",
    "#         (\"preprocessor\", preprocessor),\n",
    "#         (\n",
    "#             \"DecisionTreeClassifier\",\n",
    "#             DecisionTreeClassifier(random_state=42)\n",
    "#         ),\n",
    "#     ],\n",
    "#     memory=None,\n",
    "#     verbose=True,\n",
    "# )\n",
    "\n",
    "# tree.fit(X_trainOE, y_trainOE)"
   ]
  },
  {
   "cell_type": "markdown",
   "metadata": {},
   "source": [
    "##### 逻辑回归模型"
   ]
  },
  {
   "cell_type": "code",
   "execution_count": 29,
   "metadata": {},
   "outputs": [],
   "source": [
    "# lr = Pipeline(\n",
    "#     steps=[\n",
    "#         (\"preprocessor\", preprocessor),\n",
    "#         (\n",
    "#             \"LogisticRegression\",\n",
    "#             LogisticRegression(random_state=42)\n",
    "#         ),\n",
    "#     ],\n",
    "#     memory=None,\n",
    "#     verbose=True,\n",
    "# )\n",
    "# lr.fit(X_trainOE, y_trainOE)"
   ]
  },
  {
   "cell_type": "markdown",
   "metadata": {},
   "source": [
    "##### 随机森林模型"
   ]
  },
  {
   "cell_type": "code",
   "execution_count": 30,
   "metadata": {},
   "outputs": [],
   "source": [
    "# rf = Pipeline(\n",
    "#     steps=[\n",
    "#         (\"preprocessor\", preprocessor),\n",
    "#         (\n",
    "#             \"RandomForestClassifier\",\n",
    "#             RandomForestClassifier(random_state=42)\n",
    "#         ),\n",
    "#     ],\n",
    "#     memory=None,\n",
    "#     verbose=True,\n",
    "# )\n",
    "# rf.fit(X_trainOE, y_trainOE)"
   ]
  },
  {
   "cell_type": "markdown",
   "metadata": {},
   "source": [
    "#### 元学习器训练和测试数据创建"
   ]
  },
  {
   "cell_type": "code",
   "execution_count": 31,
   "metadata": {},
   "outputs": [],
   "source": [
    "# train_blending = pd.DataFrame(\n",
    "#     {\n",
    "#         \"lr_blending\": lr.predict_proba(X_leave)[:, 1],\n",
    "#         \"rf_blending\": rf.predict_proba(X_leave)[:, 1],\n",
    "#         \"tree_blending\": tree.predict_proba(X_leave)[:, 1],\n",
    "#     }\n",
    "# )\n",
    "# train_blending.sample(5, random_state=42)"
   ]
  },
  {
   "cell_type": "code",
   "execution_count": 32,
   "metadata": {},
   "outputs": [],
   "source": [
    "# test_blending = pd.DataFrame(\n",
    "#     {\n",
    "#         \"lr_blending\": lr.predict_proba(X_test)[:, 1],\n",
    "#         \"RF_blending\": rf.predict_proba(X_test)[:, 1],\n",
    "#         \"tree_blending\": tree.predict_proba(X_test)[:, 1],\n",
    "#     }\n",
    "# )\n",
    "# test_blending.sample(5, random_state=42)"
   ]
  },
  {
   "cell_type": "markdown",
   "metadata": {},
   "source": [
    "#### 元学习器训练测试"
   ]
  },
  {
   "cell_type": "code",
   "execution_count": 33,
   "metadata": {},
   "outputs": [],
   "source": [
    "# lr = LogisticRegression(random_state=42)\n",
    "# lr.fit(train_blending, y_leave)"
   ]
  },
  {
   "cell_type": "markdown",
   "metadata": {},
   "source": [
    "## 保存数据"
   ]
  },
  {
   "cell_type": "code",
   "execution_count": 34,
   "metadata": {},
   "outputs": [
    {
     "data": {
      "text/html": [
       "<div>\n",
       "<style scoped>\n",
       "    .dataframe tbody tr th:only-of-type {\n",
       "        vertical-align: middle;\n",
       "    }\n",
       "\n",
       "    .dataframe tbody tr th {\n",
       "        vertical-align: top;\n",
       "    }\n",
       "\n",
       "    .dataframe thead th {\n",
       "        text-align: right;\n",
       "    }\n",
       "</style>\n",
       "<table border=\"1\" class=\"dataframe\">\n",
       "  <thead>\n",
       "    <tr style=\"text-align: right;\">\n",
       "      <th></th>\n",
       "      <th>Kappa</th>\n",
       "      <th>Recall</th>\n",
       "      <th>AUC</th>\n",
       "    </tr>\n",
       "  </thead>\n",
       "  <tbody>\n",
       "    <tr>\n",
       "      <th>0</th>\n",
       "      <td>0.937327</td>\n",
       "      <td>0.939674</td>\n",
       "      <td>0.965087</td>\n",
       "    </tr>\n",
       "    <tr>\n",
       "      <th>1</th>\n",
       "      <td>0.938426</td>\n",
       "      <td>0.935770</td>\n",
       "      <td>0.964917</td>\n",
       "    </tr>\n",
       "    <tr>\n",
       "      <th>2</th>\n",
       "      <td>0.939333</td>\n",
       "      <td>0.936835</td>\n",
       "      <td>0.965449</td>\n",
       "    </tr>\n",
       "    <tr>\n",
       "      <th>3</th>\n",
       "      <td>0.949926</td>\n",
       "      <td>0.951029</td>\n",
       "      <td>0.971952</td>\n",
       "    </tr>\n",
       "    <tr>\n",
       "      <th>4</th>\n",
       "      <td>0.961898</td>\n",
       "      <td>0.962030</td>\n",
       "      <td>0.978521</td>\n",
       "    </tr>\n",
       "    <tr>\n",
       "      <th>5</th>\n",
       "      <td>0.947598</td>\n",
       "      <td>0.952803</td>\n",
       "      <td>0.971296</td>\n",
       "    </tr>\n",
       "    <tr>\n",
       "      <th>6</th>\n",
       "      <td>0.957506</td>\n",
       "      <td>0.964514</td>\n",
       "      <td>0.977151</td>\n",
       "    </tr>\n",
       "    <tr>\n",
       "      <th>7</th>\n",
       "      <td>0.959683</td>\n",
       "      <td>0.973031</td>\n",
       "      <td>0.979391</td>\n",
       "    </tr>\n",
       "  </tbody>\n",
       "</table>\n",
       "</div>"
      ],
      "text/plain": [
       "      Kappa    Recall       AUC\n",
       "0  0.937327  0.939674  0.965087\n",
       "1  0.938426  0.935770  0.964917\n",
       "2  0.939333  0.936835  0.965449\n",
       "3  0.949926  0.951029  0.971952\n",
       "4  0.961898  0.962030  0.978521\n",
       "5  0.947598  0.952803  0.971296\n",
       "6  0.957506  0.964514  0.977151\n",
       "7  0.959683  0.973031  0.979391"
      ]
     },
     "execution_count": 34,
     "metadata": {},
     "output_type": "execute_result"
    }
   ],
   "source": [
    "results = pd.DataFrame({\n",
    "    \"Kappa\": cohen_kappa_score_list,\n",
    "    \"Recall\": recall_score_list,\n",
    "    \"AUC\": roc_auc_score_list,\n",
    "})\n",
    "results"
   ]
  },
  {
   "cell_type": "code",
   "execution_count": 35,
   "metadata": {},
   "outputs": [],
   "source": [
    "models = {\n",
    "    \"m1\": hard_vc,\n",
    "    \"m2\": soft_vc,\n",
    "    \"m3\":soft_vc_weight,\n",
    "    \"m4\": soft_vc_core_weight,\n",
    "    \"m5\": stacking_model,\n",
    "    \"m6\": hard_vsc,\n",
    "    \"m7\": soft_vsc,\n",
    "    \"m8\": multi_layer\n",
    "}\n",
    "\n",
    "for model_name, model in models.items():\n",
    "    joblib.dump(\n",
    "        value=model,\n",
    "        filename=f\"../app/models/fusion-models/{model_name}.joblib\",\n",
    "        compress=5\n",
    ")"
   ]
  },
  {
   "cell_type": "code",
   "execution_count": null,
   "metadata": {},
   "outputs": [],
   "source": []
  }
 ],
 "metadata": {
  "kernelspec": {
   "display_name": "Python 3 (ipykernel)",
   "language": "python",
   "name": "python3"
  },
  "language_info": {
   "codemirror_mode": {
    "name": "ipython",
    "version": 3
   },
   "file_extension": ".py",
   "mimetype": "text/x-python",
   "name": "python",
   "nbconvert_exporter": "python",
   "pygments_lexer": "ipython3",
   "version": "3.10.15"
  }
 },
 "nbformat": 4,
 "nbformat_minor": 4
}
