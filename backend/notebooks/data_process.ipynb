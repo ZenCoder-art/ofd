{
 "cells": [
  {
   "cell_type": "markdown",
   "metadata": {
    "slideshow": {
     "slide_type": "slide"
    }
   },
   "source": [
    "# 数据处理"
   ]
  },
  {
   "cell_type": "markdown",
   "metadata": {},
   "source": [
    "本文件主要实现以下内容：\n",
    "* **数据集成**：将两份数据集合并成一份数据集\n",
    "* **数据处理**：处理缺失值、重复值和异常值\n",
    "    * 缺失值处理：见下文的缺失值处理策略\n",
    "    * 异常值处理：见下文的异常值处理策略\n",
    "    * 重复值处理：直接删除，并保留第一次出现的记录即可\n",
    "* **维度规约**：删除字段中不必要的字符（例如$等等)\n",
    "* **数据提取**：提取薪资范围的最低薪资与最高新增"
   ]
  },
  {
   "cell_type": "code",
   "execution_count": 1,
   "metadata": {},
   "outputs": [],
   "source": [
    "import os\n",
    "\n",
    "import sys\n",
    "import re\n",
    "from pathlib import Path\n",
    "import shutup\n",
    "\n",
    "os.environ['NUMPY_NO_NEP50_WARNING'] = '1'\n",
    "shutup.please()"
   ]
  },
  {
   "cell_type": "code",
   "execution_count": 2,
   "metadata": {},
   "outputs": [
    {
     "data": {
      "text/html": [
       "\n",
       "            <div>\n",
       "                <ins><a href=\"ttps://ydata.ai/register\">Upgrade to ydata-sdk</a></ins>\n",
       "                <p>\n",
       "                    Improve your data and profiling with ydata-sdk, featuring data quality scoring, redundancy detection, outlier identification, text validation, and synthetic data generation.\n",
       "                </p>\n",
       "            </div>\n",
       "            "
      ],
      "text/plain": [
       "<IPython.core.display.HTML object>"
      ]
     },
     "metadata": {},
     "output_type": "display_data"
    }
   ],
   "source": [
    "import pandas as pd \n",
    "import numpy as np\n",
    "import ydata_profiling as yp\n",
    "import spacy\n",
    "from scipy import stats\n",
    "import concurrent.futures\n",
    "from tqdm import tqdm\n",
    "\n",
    "tqdm.pandas()\n",
    "# 添加系统路径\n",
    "sys.path.append(os.path.abspath(os.path.join(os.getcwd(), '..')))\n",
    "# 指定一些文件路径\n",
    "RAW_DATA_DIR = Path(\"../dataset/raw\")\n",
    "EXTERNAL_DATA_DIR = Path(\"../dataset/external\")\n",
    "PROCESSED_DATA_DIR = Path(\"../dataset/processed\")\n",
    "TEMPLATES_DIR = Path(\"../templates\")\n",
    "STATIC_DATA_DIR = Path(\"../static\")"
   ]
  },
  {
   "cell_type": "code",
   "execution_count": 3,
   "metadata": {},
   "outputs": [],
   "source": [
    "import json\n",
    "\n",
    "# 自定义读取json文件的函数\n",
    "def read_json(file_path):\n",
    "    try:\n",
    "        with open(file_path, \"r\", encoding=\"utf-8\") as f:\n",
    "            data = json.load(f)\n",
    "        return data\n",
    "    except FileNotFoundError:\n",
    "        print(f\"文件{file_path}没找到\")"
   ]
  },
  {
   "cell_type": "markdown",
   "metadata": {},
   "source": [
    "## 读取数据集"
   ]
  },
  {
   "cell_type": "markdown",
   "metadata": {},
   "source": [
    "### 读取第一份数据集"
   ]
  },
  {
   "cell_type": "code",
   "execution_count": 4,
   "metadata": {},
   "outputs": [
    {
     "name": "stdout",
     "output_type": "stream",
     "text": [
      "数据集的形状为：(10000, 10)\n"
     ]
    },
    {
     "data": {
      "text/html": [
       "<div>\n",
       "<style scoped>\n",
       "    .dataframe tbody tr th:only-of-type {\n",
       "        vertical-align: middle;\n",
       "    }\n",
       "\n",
       "    .dataframe tbody tr th {\n",
       "        vertical-align: top;\n",
       "    }\n",
       "\n",
       "    .dataframe thead th {\n",
       "        text-align: right;\n",
       "    }\n",
       "</style>\n",
       "<table border=\"1\" class=\"dataframe\">\n",
       "  <thead>\n",
       "    <tr style=\"text-align: right;\">\n",
       "      <th></th>\n",
       "      <th>title</th>\n",
       "      <th>description</th>\n",
       "      <th>requirements</th>\n",
       "      <th>company_profile</th>\n",
       "      <th>location</th>\n",
       "      <th>salary_range</th>\n",
       "      <th>employment_type</th>\n",
       "      <th>industry</th>\n",
       "      <th>benefits</th>\n",
       "      <th>fraudulent</th>\n",
       "    </tr>\n",
       "  </thead>\n",
       "  <tbody>\n",
       "    <tr>\n",
       "      <th>6252</th>\n",
       "      <td>Plant breeder/geneticist</td>\n",
       "      <td>Debate capital begin me protect. Earn $5000/we...</td>\n",
       "      <td>Basic knowledge in throw, no degree required. ...</td>\n",
       "      <td>Terry Ltd - Established 1996.</td>\n",
       "      <td>Staciemouth</td>\n",
       "      <td>$65149-$136311</td>\n",
       "      <td>Contract</td>\n",
       "      <td>Automotive</td>\n",
       "      <td>Remote work opportunities</td>\n",
       "      <td>1</td>\n",
       "    </tr>\n",
       "  </tbody>\n",
       "</table>\n",
       "</div>"
      ],
      "text/plain": [
       "                         title  \\\n",
       "6252  Plant breeder/geneticist   \n",
       "\n",
       "                                            description  \\\n",
       "6252  Debate capital begin me protect. Earn $5000/we...   \n",
       "\n",
       "                                           requirements  \\\n",
       "6252  Basic knowledge in throw, no degree required. ...   \n",
       "\n",
       "                    company_profile     location    salary_range  \\\n",
       "6252  Terry Ltd - Established 1996.  Staciemouth  $65149-$136311   \n",
       "\n",
       "     employment_type    industry                   benefits  fraudulent  \n",
       "6252        Contract  Automotive  Remote work opportunities           1  "
      ]
     },
     "execution_count": 4,
     "metadata": {},
     "output_type": "execute_result"
    }
   ],
   "source": [
    "df1 = pd.read_csv(RAW_DATA_DIR / \"Fake Postings.csv\")\n",
    "print(f\"数据集的形状为：{df1.shape}\")\n",
    "df1.sample(n=1, random_state=42)"
   ]
  },
  {
   "cell_type": "code",
   "execution_count": 5,
   "metadata": {},
   "outputs": [
    {
     "name": "stdout",
     "output_type": "stream",
     "text": [
      "<class 'pandas.core.frame.DataFrame'>\n",
      "RangeIndex: 10000 entries, 0 to 9999\n",
      "Data columns (total 10 columns):\n",
      " #   Column           Non-Null Count  Dtype \n",
      "---  ------           --------------  ----- \n",
      " 0   title            10000 non-null  object\n",
      " 1   description      10000 non-null  object\n",
      " 2   requirements     10000 non-null  object\n",
      " 3   company_profile  10000 non-null  object\n",
      " 4   location         10000 non-null  object\n",
      " 5   salary_range     10000 non-null  object\n",
      " 6   employment_type  10000 non-null  object\n",
      " 7   industry         10000 non-null  object\n",
      " 8   benefits         10000 non-null  object\n",
      " 9   fraudulent       10000 non-null  int64 \n",
      "dtypes: int64(1), object(9)\n",
      "memory usage: 781.4+ KB\n"
     ]
    }
   ],
   "source": [
    "df1.info()"
   ]
  },
  {
   "cell_type": "markdown",
   "metadata": {},
   "source": [
    "| 字段                  | 有效值数量 | 缺失值数量 | 缺失值率  | 数据类型   | 变量类型                  |\n",
    "|:---:                  |:---:       |:---:       |:---:      |:---:      |:---:                      |\n",
    "| `title`               | 10000      | 0          | 0.0000    | object     | 文本变量                  |\n",
    "| `description`         | 10000      | 0          | 0.0000    | object     | 文本变量                  |\n",
    "| `requirements`        | 10000      | 0          | 0.0000    | object     | 文本变量                  |\n",
    "| `company_profile`     | 10000      | 0          | 0.0000    | object     | 文本变量                  |\n",
    "| `location`            | 10000      | 0          | 0.0000    | object     | 分类型变量                |\n",
    "| `salary_range`        | 10000      | 0          | 0.0000    | object     | 离散型定量变量            |\n",
    "| `employment_type`     | 10000      | 0          | 0.0000    | object     | 有序分类型变量            |\n",
    "| `industry`            | 10000      | 0          | 0.0000    | object     | 分类型变量                |\n",
    "| `benefits`            | 10000      | 0          | 0.0000    | object     | 文本变量                  |\n",
    "| `fraudulent`          | 10000      | 0          | 0.0000    | int64      | 离散型定量变量            |\n"
   ]
  },
  {
   "cell_type": "code",
   "execution_count": 6,
   "metadata": {},
   "outputs": [
    {
     "data": {
      "application/vnd.jupyter.widget-view+json": {
       "model_id": "f2135d9fb121498eaf5f1cc8e2e2fe0b",
       "version_major": 2,
       "version_minor": 0
      },
      "text/plain": [
       "Summarize dataset:   0%|          | 0/5 [00:00<?, ?it/s]"
      ]
     },
     "metadata": {},
     "output_type": "display_data"
    },
    {
     "name": "stderr",
     "output_type": "stream",
     "text": [
      "100%|██████████| 10/10 [00:00<00:00, 16.03it/s]\n"
     ]
    },
    {
     "data": {
      "application/vnd.jupyter.widget-view+json": {
       "model_id": "5d0a6a35a0d342fd88a538232b5e0011",
       "version_major": 2,
       "version_minor": 0
      },
      "text/plain": [
       "Generate report structure:   0%|          | 0/1 [00:00<?, ?it/s]"
      ]
     },
     "metadata": {},
     "output_type": "display_data"
    },
    {
     "data": {
      "application/vnd.jupyter.widget-view+json": {
       "model_id": "156ed1039419450b835ac5f580e20331",
       "version_major": 2,
       "version_minor": 0
      },
      "text/plain": [
       "Render HTML:   0%|          | 0/1 [00:00<?, ?it/s]"
      ]
     },
     "metadata": {},
     "output_type": "display_data"
    },
    {
     "data": {
      "application/vnd.jupyter.widget-view+json": {
       "model_id": "b20d3ae33b064294aca99fa3ac052541",
       "version_major": 2,
       "version_minor": 0
      },
      "text/plain": [
       "Export report to file:   0%|          | 0/1 [00:00<?, ?it/s]"
      ]
     },
     "metadata": {},
     "output_type": "display_data"
    }
   ],
   "source": [
    "yp.ProfileReport(df1, title=\"The First Dataset Analysis Report\", explorative=True).to_file(TEMPLATES_DIR / \"firstDataSet.html\")"
   ]
  },
  {
   "cell_type": "markdown",
   "metadata": {},
   "source": [
    "考虑到这份数据集没有缺失值，因此可以直接进行数据探索和处理"
   ]
  },
  {
   "cell_type": "markdown",
   "metadata": {},
   "source": [
    "### 读取第二份数据集"
   ]
  },
  {
   "cell_type": "code",
   "execution_count": 7,
   "metadata": {},
   "outputs": [
    {
     "name": "stdout",
     "output_type": "stream",
     "text": [
      "数据集的形状为:(17880, 18)\n"
     ]
    },
    {
     "data": {
      "text/html": [
       "<div>\n",
       "<style scoped>\n",
       "    .dataframe tbody tr th:only-of-type {\n",
       "        vertical-align: middle;\n",
       "    }\n",
       "\n",
       "    .dataframe tbody tr th {\n",
       "        vertical-align: top;\n",
       "    }\n",
       "\n",
       "    .dataframe thead th {\n",
       "        text-align: right;\n",
       "    }\n",
       "</style>\n",
       "<table border=\"1\" class=\"dataframe\">\n",
       "  <thead>\n",
       "    <tr style=\"text-align: right;\">\n",
       "      <th></th>\n",
       "      <th>job_id</th>\n",
       "      <th>title</th>\n",
       "      <th>location</th>\n",
       "      <th>department</th>\n",
       "      <th>salary_range</th>\n",
       "      <th>company_profile</th>\n",
       "      <th>description</th>\n",
       "      <th>requirements</th>\n",
       "      <th>benefits</th>\n",
       "      <th>telecommuting</th>\n",
       "      <th>has_company_logo</th>\n",
       "      <th>has_questions</th>\n",
       "      <th>employment_type</th>\n",
       "      <th>required_experience</th>\n",
       "      <th>required_education</th>\n",
       "      <th>industry</th>\n",
       "      <th>function</th>\n",
       "      <th>fraudulent</th>\n",
       "    </tr>\n",
       "  </thead>\n",
       "  <tbody>\n",
       "    <tr>\n",
       "      <th>13861</th>\n",
       "      <td>13862</td>\n",
       "      <td>Sr. Interactive Producer</td>\n",
       "      <td>US, VA, Richmond</td>\n",
       "      <td>NaN</td>\n",
       "      <td>NaN</td>\n",
       "      <td>We're artists, thinkers, and doers in an open,...</td>\n",
       "      <td>The Senior Interactive Producer’s primary resp...</td>\n",
       "      <td>A passion for delivering top-notch creative so...</td>\n",
       "      <td>NaN</td>\n",
       "      <td>0</td>\n",
       "      <td>1</td>\n",
       "      <td>0</td>\n",
       "      <td>Full-time</td>\n",
       "      <td>Mid-Senior level</td>\n",
       "      <td>Bachelor's Degree</td>\n",
       "      <td>Computer Software</td>\n",
       "      <td>Project Management</td>\n",
       "      <td>0</td>\n",
       "    </tr>\n",
       "  </tbody>\n",
       "</table>\n",
       "</div>"
      ],
      "text/plain": [
       "       job_id                     title          location department  \\\n",
       "13861   13862  Sr. Interactive Producer  US, VA, Richmond        NaN   \n",
       "\n",
       "      salary_range                                    company_profile  \\\n",
       "13861          NaN  We're artists, thinkers, and doers in an open,...   \n",
       "\n",
       "                                             description  \\\n",
       "13861  The Senior Interactive Producer’s primary resp...   \n",
       "\n",
       "                                            requirements benefits  \\\n",
       "13861  A passion for delivering top-notch creative so...      NaN   \n",
       "\n",
       "       telecommuting  has_company_logo  has_questions employment_type  \\\n",
       "13861              0                 1              0       Full-time   \n",
       "\n",
       "      required_experience required_education           industry  \\\n",
       "13861    Mid-Senior level  Bachelor's Degree  Computer Software   \n",
       "\n",
       "                 function  fraudulent  \n",
       "13861  Project Management           0  "
      ]
     },
     "execution_count": 7,
     "metadata": {},
     "output_type": "execute_result"
    }
   ],
   "source": [
    "df2 = pd.read_csv(RAW_DATA_DIR / \"fake_job_postings.csv\")\n",
    "print(f\"数据集的形状为:{df2.shape}\")\n",
    "df2.sample(1)"
   ]
  },
  {
   "cell_type": "code",
   "execution_count": 8,
   "metadata": {},
   "outputs": [
    {
     "name": "stdout",
     "output_type": "stream",
     "text": [
      "<class 'pandas.core.frame.DataFrame'>\n",
      "RangeIndex: 17880 entries, 0 to 17879\n",
      "Data columns (total 18 columns):\n",
      " #   Column               Non-Null Count  Dtype \n",
      "---  ------               --------------  ----- \n",
      " 0   job_id               17880 non-null  int64 \n",
      " 1   title                17880 non-null  object\n",
      " 2   location             17534 non-null  object\n",
      " 3   department           6333 non-null   object\n",
      " 4   salary_range         2868 non-null   object\n",
      " 5   company_profile      14572 non-null  object\n",
      " 6   description          17879 non-null  object\n",
      " 7   requirements         15184 non-null  object\n",
      " 8   benefits             10668 non-null  object\n",
      " 9   telecommuting        17880 non-null  int64 \n",
      " 10  has_company_logo     17880 non-null  int64 \n",
      " 11  has_questions        17880 non-null  int64 \n",
      " 12  employment_type      14409 non-null  object\n",
      " 13  required_experience  10830 non-null  object\n",
      " 14  required_education   9775 non-null   object\n",
      " 15  industry             12977 non-null  object\n",
      " 16  function             11425 non-null  object\n",
      " 17  fraudulent           17880 non-null  int64 \n",
      "dtypes: int64(5), object(13)\n",
      "memory usage: 2.5+ MB\n"
     ]
    }
   ],
   "source": [
    "df2.info()"
   ]
  },
  {
   "cell_type": "markdown",
   "metadata": {},
   "source": [
    "| 字段                  | 有效值数量 | 缺失值数量 | 缺失值率  | 数据类型   | 变量类型                  |\n",
    "|---|---|---|---|---|---|\n",
    "| `job_id`             | 17880      | 0          | 0.0000    | int64      | 离散型定量变量            |\n",
    "| `title`              | 17880      | 0          | 0.0000    | object     | 文本变量                  |\n",
    "| `location`           | 17534      | 346        | 0.0194    | object     | 分类型变量                |\n",
    "| `department`         | 6333       | 11547      | 0.6458    | object     | 分类型变量                |\n",
    "| `salary_range`       | 2868       | 15012      | 0.8396    | object     | 离散型定量变量            |\n",
    "| `company_profile`    | 14572      | 3308       | 0.1850    | object     | 文本变量                  |\n",
    "| `description`        | 17879      | 1          | 0.0001    | object     | 文本变量                  |\n",
    "| `requirements`       | 15184      | 2696       | 0.1508    | object     | 文本变量                  |\n",
    "| `benefits`           | 10668      | 7212       | 0.4034    | object     | 文本变量                  |\n",
    "| `telecommuting`      | 17880      | 0          | 0.0000    | int64      | 二元变量                  |\n",
    "| `has_company_logo`   | 17880      | 0          | 0.0000    | int64      | 二元变量                  |\n",
    "| `has_questions`      | 17880      | 0          | 0.0000    | int64      | 二元变量                  |\n",
    "| `employment_type`    | 14409      | 3471       | 0.1941    | object     | 有序分类型变量            |\n",
    "| `required_experience`| 10830      | 7050       | 0.3943    | object     | 有序分类型变量            |\n",
    "| `required_education` | 9775       | 8105       | 0.4533    | object     | 有序分类型变量            |\n",
    "| `industry`           | 12977      | 4903       | 0.2742    | object     | 分类型变量                |\n",
    "| `function`           | 11425      | 6455       | 0.3610    | object     | 分类型变量                |\n",
    "| `fraudulent`         | 17880      | 0          | 0.0000    | int64      | 二元变量                  |\n"
   ]
  },
  {
   "cell_type": "code",
   "execution_count": 9,
   "metadata": {},
   "outputs": [
    {
     "data": {
      "application/vnd.jupyter.widget-view+json": {
       "model_id": "0d2b7dbb5dc74094b7c7f14112eee56e",
       "version_major": 2,
       "version_minor": 0
      },
      "text/plain": [
       "Summarize dataset:   0%|          | 0/5 [00:00<?, ?it/s]"
      ]
     },
     "metadata": {},
     "output_type": "display_data"
    },
    {
     "name": "stderr",
     "output_type": "stream",
     "text": [
      "100%|██████████| 18/18 [00:06<00:00,  2.76it/s]\n"
     ]
    },
    {
     "data": {
      "application/vnd.jupyter.widget-view+json": {
       "model_id": "6fbc461f50774275ac654e96e2a2f876",
       "version_major": 2,
       "version_minor": 0
      },
      "text/plain": [
       "Generate report structure:   0%|          | 0/1 [00:00<?, ?it/s]"
      ]
     },
     "metadata": {},
     "output_type": "display_data"
    },
    {
     "data": {
      "application/vnd.jupyter.widget-view+json": {
       "model_id": "e3912bce3c5b4d8c80649a03d252558c",
       "version_major": 2,
       "version_minor": 0
      },
      "text/plain": [
       "Render HTML:   0%|          | 0/1 [00:00<?, ?it/s]"
      ]
     },
     "metadata": {},
     "output_type": "display_data"
    },
    {
     "data": {
      "application/vnd.jupyter.widget-view+json": {
       "model_id": "fdf771bde4f342ac960f63771a57bd27",
       "version_major": 2,
       "version_minor": 0
      },
      "text/plain": [
       "Export report to file:   0%|          | 0/1 [00:00<?, ?it/s]"
      ]
     },
     "metadata": {},
     "output_type": "display_data"
    }
   ],
   "source": [
    "yp.ProfileReport(df2, title=\"The Second Dataset Analysis Report\", explorative=True).to_file(TEMPLATES_DIR / \"secondDataSet.html\")"
   ]
  },
  {
   "cell_type": "markdown",
   "metadata": {},
   "source": [
    "## 数据合并"
   ]
  },
  {
   "cell_type": "code",
   "execution_count": 10,
   "metadata": {},
   "outputs": [
    {
     "name": "stdout",
     "output_type": "stream",
     "text": [
      "数据集的形状为:(27880, 17)\n"
     ]
    },
    {
     "data": {
      "text/html": [
       "<div>\n",
       "<style scoped>\n",
       "    .dataframe tbody tr th:only-of-type {\n",
       "        vertical-align: middle;\n",
       "    }\n",
       "\n",
       "    .dataframe tbody tr th {\n",
       "        vertical-align: top;\n",
       "    }\n",
       "\n",
       "    .dataframe thead th {\n",
       "        text-align: right;\n",
       "    }\n",
       "</style>\n",
       "<table border=\"1\" class=\"dataframe\">\n",
       "  <thead>\n",
       "    <tr style=\"text-align: right;\">\n",
       "      <th></th>\n",
       "      <th>title</th>\n",
       "      <th>description</th>\n",
       "      <th>requirements</th>\n",
       "      <th>company_profile</th>\n",
       "      <th>location</th>\n",
       "      <th>salary_range</th>\n",
       "      <th>employment_type</th>\n",
       "      <th>industry</th>\n",
       "      <th>benefits</th>\n",
       "      <th>fraudulent</th>\n",
       "      <th>department</th>\n",
       "      <th>telecommuting</th>\n",
       "      <th>has_company_logo</th>\n",
       "      <th>has_questions</th>\n",
       "      <th>required_experience</th>\n",
       "      <th>required_education</th>\n",
       "      <th>function</th>\n",
       "    </tr>\n",
       "  </thead>\n",
       "  <tbody>\n",
       "    <tr>\n",
       "      <th>11326</th>\n",
       "      <td>Administrative Assistant</td>\n",
       "      <td>Our customer is providing something new in Hea...</td>\n",
       "      <td>High school diploma/GED equivalent, or equival...</td>\n",
       "      <td>MedTalent is a modern staffing company that sp...</td>\n",
       "      <td>US, FL, Jacksonville</td>\n",
       "      <td>NaN</td>\n",
       "      <td>Full-time</td>\n",
       "      <td>Hospital &amp; Health Care</td>\n",
       "      <td>NaN</td>\n",
       "      <td>0</td>\n",
       "      <td>NaN</td>\n",
       "      <td>0.0</td>\n",
       "      <td>1.0</td>\n",
       "      <td>1.0</td>\n",
       "      <td>Associate</td>\n",
       "      <td>High School or equivalent</td>\n",
       "      <td>Administrative</td>\n",
       "    </tr>\n",
       "  </tbody>\n",
       "</table>\n",
       "</div>"
      ],
      "text/plain": [
       "                          title  \\\n",
       "11326  Administrative Assistant   \n",
       "\n",
       "                                             description  \\\n",
       "11326  Our customer is providing something new in Hea...   \n",
       "\n",
       "                                            requirements  \\\n",
       "11326  High school diploma/GED equivalent, or equival...   \n",
       "\n",
       "                                         company_profile  \\\n",
       "11326  MedTalent is a modern staffing company that sp...   \n",
       "\n",
       "                   location salary_range employment_type  \\\n",
       "11326  US, FL, Jacksonville          NaN       Full-time   \n",
       "\n",
       "                     industry benefits  fraudulent department  telecommuting  \\\n",
       "11326  Hospital & Health Care      NaN           0        NaN            0.0   \n",
       "\n",
       "       has_company_logo  has_questions required_experience  \\\n",
       "11326               1.0            1.0           Associate   \n",
       "\n",
       "              required_education        function  \n",
       "11326  High School or equivalent  Administrative  "
      ]
     },
     "execution_count": 10,
     "metadata": {},
     "output_type": "execute_result"
    }
   ],
   "source": [
    "df = pd.concat([df1, df2], axis=0)\n",
    "del df[\"job_id\"] # 删除job_id这一列\n",
    "print(f\"数据集的形状为:{df.shape}\")\n",
    "df.to_feather(PROCESSED_DATA_DIR / \"combined_data.feather\") # 保存数据\n",
    "df.sample(n=1, random_state=42)"
   ]
  },
  {
   "cell_type": "code",
   "execution_count": 11,
   "metadata": {},
   "outputs": [
    {
     "data": {
      "application/vnd.jupyter.widget-view+json": {
       "model_id": "b69bf253e82b4a4b8c8ecfbb9c54c59b",
       "version_major": 2,
       "version_minor": 0
      },
      "text/plain": [
       "Summarize dataset:   0%|          | 0/5 [00:00<?, ?it/s]"
      ]
     },
     "metadata": {},
     "output_type": "display_data"
    },
    {
     "name": "stderr",
     "output_type": "stream",
     "text": [
      "100%|██████████| 17/17 [00:06<00:00,  2.45it/s]\n"
     ]
    },
    {
     "data": {
      "application/vnd.jupyter.widget-view+json": {
       "model_id": "845aa7f86cee41eea38b4aacdeaaec73",
       "version_major": 2,
       "version_minor": 0
      },
      "text/plain": [
       "Generate report structure:   0%|          | 0/1 [00:00<?, ?it/s]"
      ]
     },
     "metadata": {},
     "output_type": "display_data"
    },
    {
     "data": {
      "application/vnd.jupyter.widget-view+json": {
       "model_id": "03eaaf5b3a22412697679aaab2fedeb8",
       "version_major": 2,
       "version_minor": 0
      },
      "text/plain": [
       "Render HTML:   0%|          | 0/1 [00:00<?, ?it/s]"
      ]
     },
     "metadata": {},
     "output_type": "display_data"
    },
    {
     "data": {
      "application/vnd.jupyter.widget-view+json": {
       "model_id": "ff41964882a34d5aab115b09cf640c80",
       "version_major": 2,
       "version_minor": 0
      },
      "text/plain": [
       "Export report to file:   0%|          | 0/1 [00:00<?, ?it/s]"
      ]
     },
     "metadata": {},
     "output_type": "display_data"
    }
   ],
   "source": [
    "report = yp.ProfileReport(df, title=\"Not Processed Fake Job Postings Dataset Analysis Report\", explorative=True)\n",
    "report.to_file(TEMPLATES_DIR / \"raw_data_report.html\")"
   ]
  },
  {
   "cell_type": "markdown",
   "metadata": {},
   "source": [
    "* 分类型变量：`location`、`industry`、`department`、`function`、`telecommuting`、`has_company_logo`、`has_questions`      \n",
    "* 有序分类型变量：`required_experience`、`required_education`、`employment_type`  \n",
    "* 文本型变量：`title`、`description`、`requirements`、`company_profile`、`benefits`\n",
    "* 离散定量型变量:`salary_range`"
   ]
  },
  {
   "cell_type": "markdown",
   "metadata": {},
   "source": [
    "## 数据清理"
   ]
  },
  {
   "cell_type": "markdown",
   "metadata": {},
   "source": [
    "### 重复值处理"
   ]
  },
  {
   "cell_type": "markdown",
   "metadata": {},
   "source": [
    "对于重复值直接删除，并保留第一次出现的记录即可"
   ]
  },
  {
   "cell_type": "code",
   "execution_count": 12,
   "metadata": {},
   "outputs": [
    {
     "name": "stdout",
     "output_type": "stream",
     "text": [
      "处理重复值前的第一份数据集形状为:(27880, 17)\n",
      "删除重复值后的第一份数据集形状为:(27599, 17)\n"
     ]
    }
   ],
   "source": [
    "print(f\"处理重复值前的第一份数据集形状为:{df.shape}\")\n",
    "df.drop_duplicates(keep='first', inplace=True)\n",
    "print(f\"删除重复值后的第一份数据集形状为:{df.shape}\")"
   ]
  },
  {
   "cell_type": "markdown",
   "metadata": {},
   "source": [
    "### 异常值处理"
   ]
  },
  {
   "cell_type": "markdown",
   "metadata": {},
   "source": [
    "* 异常值主要针对于数值型变量，异常值检测的方法主要有以下几种：\n",
    "  * 箱线图：箱线图被广泛用于检测和识别数据中的异常值 (离群点)\n",
    "  * Z-score 方法：均适用于数据对称情形\n",
    "  * Tukey’s method：这是一种常用的识别离群值的方法，以中位数和四分位数为基础来识别离群点（适用于数据对称的情形）\n",
    "  * 调整的箱型图方法"
   ]
  },
  {
   "cell_type": "markdown",
   "metadata": {},
   "source": [
    "#### 文本型变量处理"
   ]
  },
  {
   "cell_type": "markdown",
   "metadata": {},
   "source": [
    "对长文本型变量执行以下操作：\n",
    "* **去除噪声**: 去掉标点符号、停用词（如“的”、“是”等）、多余空格、HTML标签等\n",
    "* **词形还原**: 将词汇归一化，例如将`running`和`ran`统一为`run`"
   ]
  },
  {
   "cell_type": "code",
   "execution_count": 13,
   "metadata": {},
   "outputs": [
    {
     "name": "stderr",
     "output_type": "stream",
     "text": [
      "Processing description: 100%|██████████| 27599/27599 [04:59<00:00, 92.16it/s] \n",
      "Processing requirements: 100%|██████████| 27599/27599 [03:32<00:00, 130.00it/s]\n",
      "Processing company_profile: 100%|██████████| 27599/27599 [03:12<00:00, 143.54it/s]\n",
      "Processing benefits: 100%|██████████| 27599/27599 [02:07<00:00, 216.99it/s]\n"
     ]
    },
    {
     "data": {
      "text/html": [
       "<div>\n",
       "<style scoped>\n",
       "    .dataframe tbody tr th:only-of-type {\n",
       "        vertical-align: middle;\n",
       "    }\n",
       "\n",
       "    .dataframe tbody tr th {\n",
       "        vertical-align: top;\n",
       "    }\n",
       "\n",
       "    .dataframe thead th {\n",
       "        text-align: right;\n",
       "    }\n",
       "</style>\n",
       "<table border=\"1\" class=\"dataframe\">\n",
       "  <thead>\n",
       "    <tr style=\"text-align: right;\">\n",
       "      <th></th>\n",
       "      <th>title</th>\n",
       "      <th>description</th>\n",
       "      <th>requirements</th>\n",
       "      <th>company_profile</th>\n",
       "      <th>location</th>\n",
       "      <th>salary_range</th>\n",
       "      <th>employment_type</th>\n",
       "      <th>industry</th>\n",
       "      <th>benefits</th>\n",
       "      <th>fraudulent</th>\n",
       "      <th>department</th>\n",
       "      <th>telecommuting</th>\n",
       "      <th>has_company_logo</th>\n",
       "      <th>has_questions</th>\n",
       "      <th>required_experience</th>\n",
       "      <th>required_education</th>\n",
       "      <th>function</th>\n",
       "    </tr>\n",
       "  </thead>\n",
       "  <tbody>\n",
       "    <tr>\n",
       "      <th>17192</th>\n",
       "      <td>Decision analytics and optimization</td>\n",
       "      <td>merl seek highly motivated qualified intern as...</td>\n",
       "      <td>None</td>\n",
       "      <td>merls internship program give student excellen...</td>\n",
       "      <td>US, MA, Cambridge</td>\n",
       "      <td>NaN</td>\n",
       "      <td>NaN</td>\n",
       "      <td>NaN</td>\n",
       "      <td>None</td>\n",
       "      <td>0</td>\n",
       "      <td>DA</td>\n",
       "      <td>0.0</td>\n",
       "      <td>1.0</td>\n",
       "      <td>1.0</td>\n",
       "      <td>NaN</td>\n",
       "      <td>NaN</td>\n",
       "      <td>NaN</td>\n",
       "    </tr>\n",
       "  </tbody>\n",
       "</table>\n",
       "</div>"
      ],
      "text/plain": [
       "                                     title  \\\n",
       "17192  Decision analytics and optimization   \n",
       "\n",
       "                                             description requirements  \\\n",
       "17192  merl seek highly motivated qualified intern as...         None   \n",
       "\n",
       "                                         company_profile           location  \\\n",
       "17192  merls internship program give student excellen...  US, MA, Cambridge   \n",
       "\n",
       "      salary_range employment_type industry benefits  fraudulent department  \\\n",
       "17192          NaN             NaN      NaN     None           0         DA   \n",
       "\n",
       "       telecommuting  has_company_logo  has_questions required_experience  \\\n",
       "17192            0.0               1.0            1.0                 NaN   \n",
       "\n",
       "      required_education function  \n",
       "17192                NaN      NaN  "
      ]
     },
     "execution_count": 13,
     "metadata": {},
     "output_type": "execute_result"
    }
   ],
   "source": [
    "nlp = spacy.load(\"en_core_web_sm\", disable=[\"ner\", \"parser\", \"textcat\"])\n",
    "\n",
    "def preprocess(text):\n",
    "    if isinstance(text, str):\n",
    "        text = text.strip()\n",
    "        text = text.lower()\n",
    "        text = re.sub(r'<.*?>', '', text)\n",
    "        text = re.sub(r'[^\\w\\s]', '', text)\n",
    "        text = re.sub(r'[^\\x00-\\x7F]+', '', text)\n",
    "        text = re.sub(r'\\s+', ' ', text).strip()\n",
    "        text = re.sub(r'\\d+', '', text)\n",
    "        doc = nlp(text)\n",
    "        processed_text = \" \".join([token.lemma_ for token in doc if not token.is_stop and not token.is_punct])\n",
    "        return processed_text\n",
    "    else:\n",
    "        return\n",
    "\n",
    "columns = [\"description\", \"requirements\", \"company_profile\", \"benefits\"]\n",
    "\n",
    "def parallel_apply(df, column_name):\n",
    "    with tqdm(total=len(df[column_name]), desc=f\"Processing {column_name}\") as pbar:\n",
    "        def update_progress(text):\n",
    "            pbar.update(1)\n",
    "            return preprocess(text)\n",
    "        \n",
    "        with concurrent.futures.ThreadPoolExecutor(max_workers=4) as executor:\n",
    "            result = list(executor.map(update_progress, df[column_name]))\n",
    "    \n",
    "    return result\n",
    "\n",
    "for col in columns:\n",
    "    df[col] = parallel_apply(df, col)\n",
    "\n",
    "df.sample(n=1, random_state=42)"
   ]
  },
  {
   "cell_type": "markdown",
   "metadata": {},
   "source": [
    "对所有字符型变量执行以下操作：\n",
    "* 去除字符串前后两端的空格\n",
    "* 小写化"
   ]
  },
  {
   "cell_type": "code",
   "execution_count": 14,
   "metadata": {},
   "outputs": [
    {
     "data": {
      "text/html": [
       "<div>\n",
       "<style scoped>\n",
       "    .dataframe tbody tr th:only-of-type {\n",
       "        vertical-align: middle;\n",
       "    }\n",
       "\n",
       "    .dataframe tbody tr th {\n",
       "        vertical-align: top;\n",
       "    }\n",
       "\n",
       "    .dataframe thead th {\n",
       "        text-align: right;\n",
       "    }\n",
       "</style>\n",
       "<table border=\"1\" class=\"dataframe\">\n",
       "  <thead>\n",
       "    <tr style=\"text-align: right;\">\n",
       "      <th></th>\n",
       "      <th>title</th>\n",
       "      <th>description</th>\n",
       "      <th>requirements</th>\n",
       "      <th>company_profile</th>\n",
       "      <th>location</th>\n",
       "      <th>salary_range</th>\n",
       "      <th>employment_type</th>\n",
       "      <th>industry</th>\n",
       "      <th>benefits</th>\n",
       "      <th>fraudulent</th>\n",
       "      <th>department</th>\n",
       "      <th>telecommuting</th>\n",
       "      <th>has_company_logo</th>\n",
       "      <th>has_questions</th>\n",
       "      <th>required_experience</th>\n",
       "      <th>required_education</th>\n",
       "      <th>function</th>\n",
       "    </tr>\n",
       "  </thead>\n",
       "  <tbody>\n",
       "    <tr>\n",
       "      <th>17192</th>\n",
       "      <td>decision analytics and optimization</td>\n",
       "      <td>merl seek highly motivated qualified intern as...</td>\n",
       "      <td>None</td>\n",
       "      <td>merls internship program give student excellen...</td>\n",
       "      <td>us, ma, cambridge</td>\n",
       "      <td>NaN</td>\n",
       "      <td>NaN</td>\n",
       "      <td>NaN</td>\n",
       "      <td>None</td>\n",
       "      <td>0</td>\n",
       "      <td>da</td>\n",
       "      <td>0.0</td>\n",
       "      <td>1.0</td>\n",
       "      <td>1.0</td>\n",
       "      <td>NaN</td>\n",
       "      <td>NaN</td>\n",
       "      <td>NaN</td>\n",
       "    </tr>\n",
       "  </tbody>\n",
       "</table>\n",
       "</div>"
      ],
      "text/plain": [
       "                                     title  \\\n",
       "17192  decision analytics and optimization   \n",
       "\n",
       "                                             description requirements  \\\n",
       "17192  merl seek highly motivated qualified intern as...         None   \n",
       "\n",
       "                                         company_profile           location  \\\n",
       "17192  merls internship program give student excellen...  us, ma, cambridge   \n",
       "\n",
       "      salary_range employment_type industry benefits  fraudulent department  \\\n",
       "17192          NaN             NaN      NaN     None           0         da   \n",
       "\n",
       "       telecommuting  has_company_logo  has_questions required_experience  \\\n",
       "17192            0.0               1.0            1.0                 NaN   \n",
       "\n",
       "      required_education function  \n",
       "17192                NaN      NaN  "
      ]
     },
     "execution_count": 14,
     "metadata": {},
     "output_type": "execute_result"
    }
   ],
   "source": [
    "def clean_text(text):\n",
    "    if isinstance(text, str):\n",
    "        text = re.sub(r'<.*?>', '', text)\n",
    "        text = text.strip()\n",
    "        text = re.sub(r'[^\\w\\s]', '', text)\n",
    "        text = re.sub(r'[^\\x00-\\x7F]+', '', text)\n",
    "        text = text.lower()\n",
    "        text = re.sub(r'\\s+', ' ', text).strip()\n",
    "        return text\n",
    "    else:\n",
    "        return text\n",
    "\n",
    "columns = [col for col in df.columns if col not in [\"salary_range\", \"location\"]]\n",
    "\n",
    "df[columns] = df[columns].applymap(clean_text)\n",
    "df[\"location\"] = df[\"location\"].apply(lambda x: x.lower() if isinstance(x, str) else x)\n",
    "df.sample(n=1, random_state=42)"
   ]
  },
  {
   "cell_type": "markdown",
   "metadata": {},
   "source": [
    "#### 数值型变量的异常值"
   ]
  },
  {
   "cell_type": "markdown",
   "metadata": {},
   "source": [
    "数值型变量`salary_range`有一些类似于Oct-20的异常值，对于这类异常值直接置为缺失值，后续进一步处理即可"
   ]
  },
  {
   "cell_type": "code",
   "execution_count": 15,
   "metadata": {},
   "outputs": [
    {
     "data": {
      "text/plain": [
       "9911     Oct-20\n",
       "10905    10-Nov\n",
       "159       9-Dec\n",
       "17233    10-Nov\n",
       "10788    11-Nov\n",
       "Name: salary_range, dtype: object"
      ]
     },
     "execution_count": 15,
     "metadata": {},
     "output_type": "execute_result"
    }
   ],
   "source": [
    "df['salary_range'] = df['salary_range'].str.replace('$', '', regex=False)\n",
    "# salary_range有以下的异常值\n",
    "data = df[~df[\"salary_range\"].isna()]\n",
    "data[~data['salary_range'].str.match(r'^\\d+-\\d+$', na=False)][\"salary_range\"].sample(n=5, random_state=42)"
   ]
  },
  {
   "cell_type": "markdown",
   "metadata": {},
   "source": [
    "对于这类异常值,直接将其置为缺失值"
   ]
  },
  {
   "cell_type": "code",
   "execution_count": 16,
   "metadata": {},
   "outputs": [
    {
     "name": "stdout",
     "output_type": "stream",
     "text": [
      "异常值处理前缺失值的个数为:14772\n",
      "异常值处理后缺失值的个数为:14807\n"
     ]
    }
   ],
   "source": [
    "print(f'异常值处理前缺失值的个数为:{df[\"salary_range\"].isna().sum()}')\n",
    "outlier = data[~data['salary_range'].str.match(r'^\\d+-\\d+$', na=False)]\n",
    "df.loc[df['salary_range'] == '40000', 'salary_range'] = '40000-40000'\n",
    "df.loc[outlier.index, 'salary_range'] = np.nan\n",
    "print(f'异常值处理后缺失值的个数为:{df[\"salary_range\"].isna().sum()}')"
   ]
  },
  {
   "cell_type": "markdown",
   "metadata": {},
   "source": [
    "### 缺失值的处理"
   ]
  },
  {
   "cell_type": "markdown",
   "metadata": {},
   "source": [
    "* **删除变量**：若变量的缺失率较高（大于$80\\%$），覆盖率较低，且重要性较低，可以直接将变量删除\n",
    "* **定值填充**：使用常量进行填充\n",
    "* **统计量填充**：若缺失率较低（小于$95\\%$）且重要性较低，则根据数据分布的情况进行填充\n",
    "  * 对于数据符合均匀分布，用该变量的均值填补缺失\n",
    "  * 对于数据存在倾斜分布的情况，采用中位数进行填补\n",
    "* **插值法填充**：包括随机插值，多重差补法，热平台插补，拉格朗日插值，牛顿插值等\n",
    "* **模型填充**：使用回归、贝叶斯、随机森林、决策树等模型对缺失数据进行预测\n",
    "* **哑变量填充**：若变量是离散型，且不同值较少，可转换成哑变量\n",
    "  * 例如性别`SEX`变量，存在`male`,`fameal`,`NA`三个不同的值，可将该列转换成`IS_SEX_MALE`, `IS_SEX_FEMALE`, `IS_SEX_NA`\n",
    "  * 若某个变量存在十几个不同的值，可根据每个值的频数，将频数较小的值归为一类`other`，降低维度。此做法可最大化保留变量的信息"
   ]
  },
  {
   "cell_type": "markdown",
   "metadata": {},
   "source": [
    "#### 卡方检验"
   ]
  },
  {
   "cell_type": "markdown",
   "metadata": {},
   "source": [
    "* **卡方检验**（Chi-Square Test） 是一种统计方法，用于检**验两个分类变量之间是否存在统计学上的显著关联**，或者观测值是否与期望值存在显著差异。它是一种非参数检验方法，广泛应用于频数数据分析\n"
   ]
  },
  {
   "cell_type": "markdown",
   "metadata": {},
   "source": [
    "##### 缺失值状态对欺诈招聘的影响"
   ]
  },
  {
   "cell_type": "code",
   "execution_count": 17,
   "metadata": {},
   "outputs": [
    {
     "data": {
      "text/html": [
       "<div>\n",
       "<style scoped>\n",
       "    .dataframe tbody tr th:only-of-type {\n",
       "        vertical-align: middle;\n",
       "    }\n",
       "\n",
       "    .dataframe tbody tr th {\n",
       "        vertical-align: top;\n",
       "    }\n",
       "\n",
       "    .dataframe thead th {\n",
       "        text-align: right;\n",
       "    }\n",
       "</style>\n",
       "<table border=\"1\" class=\"dataframe\">\n",
       "  <thead>\n",
       "    <tr style=\"text-align: right;\">\n",
       "      <th></th>\n",
       "      <th>Column</th>\n",
       "      <th>Chi2</th>\n",
       "      <th>p-value</th>\n",
       "      <th>Degrees of Freedom</th>\n",
       "    </tr>\n",
       "  </thead>\n",
       "  <tbody>\n",
       "    <tr>\n",
       "      <th>0</th>\n",
       "      <td>description</td>\n",
       "      <td>0.047670</td>\n",
       "      <td>8.271693e-01</td>\n",
       "      <td>1</td>\n",
       "    </tr>\n",
       "    <tr>\n",
       "      <th>1</th>\n",
       "      <td>requirements</td>\n",
       "      <td>1387.620051</td>\n",
       "      <td>1.029501e-303</td>\n",
       "      <td>1</td>\n",
       "    </tr>\n",
       "    <tr>\n",
       "      <th>2</th>\n",
       "      <td>company_profile</td>\n",
       "      <td>731.502645</td>\n",
       "      <td>4.221427e-161</td>\n",
       "      <td>1</td>\n",
       "    </tr>\n",
       "    <tr>\n",
       "      <th>3</th>\n",
       "      <td>location</td>\n",
       "      <td>163.507137</td>\n",
       "      <td>1.938347e-37</td>\n",
       "      <td>1</td>\n",
       "    </tr>\n",
       "    <tr>\n",
       "      <th>4</th>\n",
       "      <td>salary_range</td>\n",
       "      <td>16376.809302</td>\n",
       "      <td>0.000000e+00</td>\n",
       "      <td>1</td>\n",
       "    </tr>\n",
       "    <tr>\n",
       "      <th>5</th>\n",
       "      <td>employment_type</td>\n",
       "      <td>1725.716525</td>\n",
       "      <td>0.000000e+00</td>\n",
       "      <td>1</td>\n",
       "    </tr>\n",
       "    <tr>\n",
       "      <th>6</th>\n",
       "      <td>industry</td>\n",
       "      <td>2798.309855</td>\n",
       "      <td>0.000000e+00</td>\n",
       "      <td>1</td>\n",
       "    </tr>\n",
       "    <tr>\n",
       "      <th>7</th>\n",
       "      <td>benefits</td>\n",
       "      <td>4713.773972</td>\n",
       "      <td>0.000000e+00</td>\n",
       "      <td>1</td>\n",
       "    </tr>\n",
       "    <tr>\n",
       "      <th>8</th>\n",
       "      <td>department</td>\n",
       "      <td>3938.702578</td>\n",
       "      <td>0.000000e+00</td>\n",
       "      <td>1</td>\n",
       "    </tr>\n",
       "    <tr>\n",
       "      <th>9</th>\n",
       "      <td>telecommuting</td>\n",
       "      <td>24182.277811</td>\n",
       "      <td>0.000000e+00</td>\n",
       "      <td>1</td>\n",
       "    </tr>\n",
       "    <tr>\n",
       "      <th>10</th>\n",
       "      <td>has_company_logo</td>\n",
       "      <td>24182.277811</td>\n",
       "      <td>0.000000e+00</td>\n",
       "      <td>1</td>\n",
       "    </tr>\n",
       "    <tr>\n",
       "      <th>11</th>\n",
       "      <td>has_questions</td>\n",
       "      <td>24182.277811</td>\n",
       "      <td>0.000000e+00</td>\n",
       "      <td>1</td>\n",
       "    </tr>\n",
       "    <tr>\n",
       "      <th>12</th>\n",
       "      <td>required_experience</td>\n",
       "      <td>9036.365286</td>\n",
       "      <td>0.000000e+00</td>\n",
       "      <td>1</td>\n",
       "    </tr>\n",
       "    <tr>\n",
       "      <th>13</th>\n",
       "      <td>required_education</td>\n",
       "      <td>7559.108598</td>\n",
       "      <td>0.000000e+00</td>\n",
       "      <td>1</td>\n",
       "    </tr>\n",
       "    <tr>\n",
       "      <th>14</th>\n",
       "      <td>function</td>\n",
       "      <td>9534.662261</td>\n",
       "      <td>0.000000e+00</td>\n",
       "      <td>1</td>\n",
       "    </tr>\n",
       "  </tbody>\n",
       "</table>\n",
       "</div>"
      ],
      "text/plain": [
       "                 Column          Chi2        p-value  Degrees of Freedom\n",
       "0           description      0.047670   8.271693e-01                   1\n",
       "1          requirements   1387.620051  1.029501e-303                   1\n",
       "2       company_profile    731.502645  4.221427e-161                   1\n",
       "3              location    163.507137   1.938347e-37                   1\n",
       "4          salary_range  16376.809302   0.000000e+00                   1\n",
       "5       employment_type   1725.716525   0.000000e+00                   1\n",
       "6              industry   2798.309855   0.000000e+00                   1\n",
       "7              benefits   4713.773972   0.000000e+00                   1\n",
       "8            department   3938.702578   0.000000e+00                   1\n",
       "9         telecommuting  24182.277811   0.000000e+00                   1\n",
       "10     has_company_logo  24182.277811   0.000000e+00                   1\n",
       "11        has_questions  24182.277811   0.000000e+00                   1\n",
       "12  required_experience   9036.365286   0.000000e+00                   1\n",
       "13   required_education   7559.108598   0.000000e+00                   1\n",
       "14             function   9534.662261   0.000000e+00                   1"
      ]
     },
     "execution_count": 17,
     "metadata": {},
     "output_type": "execute_result"
    }
   ],
   "source": [
    "results = []\n",
    "\n",
    "for column in df.columns:\n",
    "    if df[column].isnull().sum() > 0: \n",
    "        contingency_table = pd.crosstab(df[column].isna(), df['fraudulent'])\n",
    "        chi2, p_value, dof, expected = stats.chi2_contingency(contingency_table)\n",
    "        results.append({\n",
    "            'Column': column,\n",
    "            'Chi2': chi2,\n",
    "            'p-value': p_value,\n",
    "            'Degrees of Freedom': dof\n",
    "        })\n",
    "pd.DataFrame(results)"
   ]
  },
  {
   "cell_type": "markdown",
   "metadata": {},
   "source": [
    "##### 分类变量本身对欺诈招聘的影响"
   ]
  },
  {
   "cell_type": "markdown",
   "metadata": {},
   "source": [
    "* 这里只考虑分类型变量，文本型变量、离散型定量变量后续再考虑"
   ]
  },
  {
   "cell_type": "code",
   "execution_count": 18,
   "metadata": {},
   "outputs": [
    {
     "data": {
      "text/html": [
       "<div>\n",
       "<style scoped>\n",
       "    .dataframe tbody tr th:only-of-type {\n",
       "        vertical-align: middle;\n",
       "    }\n",
       "\n",
       "    .dataframe tbody tr th {\n",
       "        vertical-align: top;\n",
       "    }\n",
       "\n",
       "    .dataframe thead th {\n",
       "        text-align: right;\n",
       "    }\n",
       "</style>\n",
       "<table border=\"1\" class=\"dataframe\">\n",
       "  <thead>\n",
       "    <tr style=\"text-align: right;\">\n",
       "      <th></th>\n",
       "      <th>Column</th>\n",
       "      <th>Chi2</th>\n",
       "      <th>p-value</th>\n",
       "      <th>Degrees of Freedom</th>\n",
       "    </tr>\n",
       "  </thead>\n",
       "  <tbody>\n",
       "    <tr>\n",
       "      <th>0</th>\n",
       "      <td>location</td>\n",
       "      <td>25242.531697</td>\n",
       "      <td>0.000000e+00</td>\n",
       "      <td>3033</td>\n",
       "    </tr>\n",
       "    <tr>\n",
       "      <th>1</th>\n",
       "      <td>department</td>\n",
       "      <td>3120.552500</td>\n",
       "      <td>7.216729e-169</td>\n",
       "      <td>1209</td>\n",
       "    </tr>\n",
       "    <tr>\n",
       "      <th>2</th>\n",
       "      <td>industry</td>\n",
       "      <td>18375.212250</td>\n",
       "      <td>0.000000e+00</td>\n",
       "      <td>134</td>\n",
       "    </tr>\n",
       "    <tr>\n",
       "      <th>3</th>\n",
       "      <td>function</td>\n",
       "      <td>566.752727</td>\n",
       "      <td>1.250509e-96</td>\n",
       "      <td>36</td>\n",
       "    </tr>\n",
       "    <tr>\n",
       "      <th>4</th>\n",
       "      <td>telecommuting</td>\n",
       "      <td>21.549122</td>\n",
       "      <td>3.448805e-06</td>\n",
       "      <td>1</td>\n",
       "    </tr>\n",
       "    <tr>\n",
       "      <th>5</th>\n",
       "      <td>has_company_logo</td>\n",
       "      <td>1185.495956</td>\n",
       "      <td>8.658615e-260</td>\n",
       "      <td>1</td>\n",
       "    </tr>\n",
       "    <tr>\n",
       "      <th>6</th>\n",
       "      <td>has_questions</td>\n",
       "      <td>144.784234</td>\n",
       "      <td>2.394048e-33</td>\n",
       "      <td>1</td>\n",
       "    </tr>\n",
       "    <tr>\n",
       "      <th>7</th>\n",
       "      <td>employment_type</td>\n",
       "      <td>9507.305490</td>\n",
       "      <td>0.000000e+00</td>\n",
       "      <td>5</td>\n",
       "    </tr>\n",
       "    <tr>\n",
       "      <th>8</th>\n",
       "      <td>required_experience</td>\n",
       "      <td>99.411614</td>\n",
       "      <td>3.328869e-19</td>\n",
       "      <td>6</td>\n",
       "    </tr>\n",
       "    <tr>\n",
       "      <th>9</th>\n",
       "      <td>required_education</td>\n",
       "      <td>508.975897</td>\n",
       "      <td>2.722865e-101</td>\n",
       "      <td>12</td>\n",
       "    </tr>\n",
       "  </tbody>\n",
       "</table>\n",
       "</div>"
      ],
      "text/plain": [
       "                Column          Chi2        p-value  Degrees of Freedom\n",
       "0             location  25242.531697   0.000000e+00                3033\n",
       "1           department   3120.552500  7.216729e-169                1209\n",
       "2             industry  18375.212250   0.000000e+00                 134\n",
       "3             function    566.752727   1.250509e-96                  36\n",
       "4        telecommuting     21.549122   3.448805e-06                   1\n",
       "5     has_company_logo   1185.495956  8.658615e-260                   1\n",
       "6        has_questions    144.784234   2.394048e-33                   1\n",
       "7      employment_type   9507.305490   0.000000e+00                   5\n",
       "8  required_experience     99.411614   3.328869e-19                   6\n",
       "9   required_education    508.975897  2.722865e-101                  12"
      ]
     },
     "execution_count": 18,
     "metadata": {},
     "output_type": "execute_result"
    }
   ],
   "source": [
    "results = []\n",
    "categories = [\"location\", \"department\", \"industry\", \"function\", \"telecommuting\", \"has_company_logo\", \"has_questions\", \"employment_type\", \"required_experience\", \"required_education\"]\n",
    "\n",
    "for column in categories:\n",
    "    if df[column].isnull().sum() > 0: \n",
    "        contingency_table = pd.crosstab(df[column], df['fraudulent'])\n",
    "        chi2, p_value, dof, expected = stats.chi2_contingency(contingency_table)\n",
    "        results.append({\n",
    "            'Column': column,\n",
    "            'Chi2': chi2,\n",
    "            'p-value': p_value,\n",
    "            'Degrees of Freedom': dof\n",
    "        })\n",
    "pd.DataFrame(results)"
   ]
  },
  {
   "cell_type": "markdown",
   "metadata": {},
   "source": [
    "Chi-square test 的结果表明:\n",
    "* 第一组结果（缺失值状态）聚焦于变量是否缺失对欺诈招聘的影响，揭示缺失值是否携带显著信号\n",
    "  * 显著变量：`company_profile`、`salary_range`、`required_experience`、`employment_type`、`industry`、`required_education`、`requirements`、`location`、`benefits`、`department`、`telecommuting`、`has_company_logo`, `has_questions`\n",
    "  * 无显著关系变量：`description`\n",
    "* 第二组结果（分类值分布）关注分类变量中具体取值与欺诈招聘的关联性，强调不同类别的重要性\n",
    "  * **所有分类型变量都是显著的**"
   ]
  },
  {
   "cell_type": "markdown",
   "metadata": {},
   "source": [
    "#### 缺失值处理策略"
   ]
  },
  {
   "cell_type": "markdown",
   "metadata": {},
   "source": [
    "##### 分类型变量的缺失值处理"
   ]
  },
  {
   "cell_type": "markdown",
   "metadata": {},
   "source": [
    "* 分类型变量有`location`、`industry`、`department`、`function`、`telecommuting`、`has_company_logo`、`has_questions`、`employment_type`、`required_education`和`required_experience`\n",
    "  * 对于`location`变量，缺失值只有346个，直接删除缺失值即可\n",
    "  * 其他变量的处理\n",
    "    * 创建一个新的字段来标记缺失值\n",
    "    * 填充为`Missing`"
   ]
  },
  {
   "cell_type": "code",
   "execution_count": 19,
   "metadata": {},
   "outputs": [
    {
     "data": {
      "text/plain": [
       "['required_experience',\n",
       " 'employment_type',\n",
       " 'industry',\n",
       " 'required_education',\n",
       " 'requirements',\n",
       " 'department',\n",
       " 'telecommuting',\n",
       " 'has_company_logo',\n",
       " 'has_questions']"
      ]
     },
     "execution_count": 19,
     "metadata": {},
     "output_type": "execute_result"
    }
   ],
   "source": [
    "significant_variables = read_json(EXTERNAL_DATA_DIR/\"significant_variable.json\")[\"category\"][\"significant\"]\n",
    "significant_variables[:-1]"
   ]
  },
  {
   "cell_type": "code",
   "execution_count": 20,
   "metadata": {},
   "outputs": [],
   "source": [
    "# 对于location，删除缺失值即可\n",
    "df.dropna(subset=[\"location\"], inplace=True)"
   ]
  },
  {
   "cell_type": "code",
   "execution_count": 21,
   "metadata": {},
   "outputs": [
    {
     "data": {
      "text/plain": [
       "title                                 0\n",
       "description                           1\n",
       "requirements                       2475\n",
       "company_profile                    3221\n",
       "location                              0\n",
       "salary_range                      14486\n",
       "employment_type                       0\n",
       "industry                              0\n",
       "benefits                           6859\n",
       "fraudulent                            0\n",
       "department                            0\n",
       "telecommuting                         0\n",
       "has_company_logo                      0\n",
       "has_questions                         0\n",
       "required_experience                   0\n",
       "required_education                    0\n",
       "function                              0\n",
       "is_missing_required_experience        0\n",
       "is_missing_employment_type            0\n",
       "is_missing_industry                   0\n",
       "is_missing_required_education         0\n",
       "is_missing_requirements               0\n",
       "is_missing_department                 0\n",
       "is_missing_telecommuting              0\n",
       "is_missing_has_company_logo           0\n",
       "is_missing_has_questions              0\n",
       "dtype: int64"
      ]
     },
     "execution_count": 21,
     "metadata": {},
     "output_type": "execute_result"
    }
   ],
   "source": [
    "# 标记缺失值\n",
    "for var in significant_variables[:-1]: \n",
    "    df[f'is_missing_{var}'] = df[var].isna().astype(int)\n",
    "nums = ['telecommuting', 'has_company_logo', 'has_questions']\n",
    "fields = [\"function\", \"department\", \"industry\", \"required_experience\", \"required_education\", \"employment_type\"]\n",
    "\n",
    "for field in fields:\n",
    "    df[field] = df[field].fillna(\"Missing\")\n",
    "\n",
    "for num in nums:\n",
    "    df[num] = df[num].fillna(-1)\n",
    "df.isna().sum()"
   ]
  },
  {
   "cell_type": "markdown",
   "metadata": {},
   "source": [
    "##### 文本型变量的缺失值处理"
   ]
  },
  {
   "cell_type": "markdown",
   "metadata": {},
   "source": [
    "* 文本型变量有`company_profile`、`description`、`requirements`和`benefits`,对这四个变量的缺失值处理遵循以下规则：\n",
    "  * `description`的缺失值只有一条，**删除这一条记录即可**\n",
    "  * `company_profile`的缺失值占比为$18.5\\%$，添加二元特征 `is_company_profile_missing`, 记录 `company_profile` 是否缺失，保留缺失值的显著性\n",
    "  * `requirements`的缺失值占比为$15\\%$, 直接填充为`Missing`即可\n",
    "  * `benefits`的缺失值占比为$40\\%$,这些变量缺失值较大，直接填充为`Missing`即可"
   ]
  },
  {
   "cell_type": "code",
   "execution_count": 22,
   "metadata": {},
   "outputs": [
    {
     "data": {
      "text/plain": [
       "title                                 0\n",
       "description                           0\n",
       "requirements                          0\n",
       "company_profile                       0\n",
       "location                              0\n",
       "salary_range                      14485\n",
       "employment_type                       0\n",
       "industry                              0\n",
       "benefits                              0\n",
       "fraudulent                            0\n",
       "department                            0\n",
       "telecommuting                         0\n",
       "has_company_logo                      0\n",
       "has_questions                         0\n",
       "required_experience                   0\n",
       "required_education                    0\n",
       "function                              0\n",
       "is_missing_required_experience        0\n",
       "is_missing_employment_type            0\n",
       "is_missing_industry                   0\n",
       "is_missing_required_education         0\n",
       "is_missing_requirements               0\n",
       "is_missing_department                 0\n",
       "is_missing_telecommuting              0\n",
       "is_missing_has_company_logo           0\n",
       "is_missing_has_questions              0\n",
       "is_missing_company_profile            0\n",
       "dtype: int64"
      ]
     },
     "execution_count": 22,
     "metadata": {},
     "output_type": "execute_result"
    }
   ],
   "source": [
    "df = df.dropna(subset=['description'])\n",
    "df['is_missing_company_profile'] = df['company_profile'].isna().astype(int)\n",
    "df[\"company_profile\"] = df[\"company_profile\"].fillna(\"Missing\")\n",
    "df['requirements'] = df['requirements'].fillna('Missing')\n",
    "df['benefits'] = df['benefits'].fillna('Missing')\n",
    "df.isna().sum()"
   ]
  },
  {
   "cell_type": "markdown",
   "metadata": {},
   "source": [
    "##### 离散定量型变量的缺失值处理"
   ]
  },
  {
   "cell_type": "markdown",
   "metadata": {},
   "source": [
    "* 离散型定量变量有`salary_range`, 缺失值占比为$83\\%$,对于这个变量的缺失值处理分以下两个步骤：\n",
    "  1. 新增一个二元变量 `is_salary_range_missing`，记录 `salary_range` 是否缺失,这种标记能直接捕捉**缺失值状态与欺诈的显著关系**\n",
    "  2. 填充为`0-0`"
   ]
  },
  {
   "cell_type": "code",
   "execution_count": 23,
   "metadata": {},
   "outputs": [
    {
     "data": {
      "text/plain": [
       "title                             0\n",
       "description                       0\n",
       "requirements                      0\n",
       "company_profile                   0\n",
       "location                          0\n",
       "salary_range                      0\n",
       "employment_type                   0\n",
       "industry                          0\n",
       "benefits                          0\n",
       "fraudulent                        0\n",
       "department                        0\n",
       "telecommuting                     0\n",
       "has_company_logo                  0\n",
       "has_questions                     0\n",
       "required_experience               0\n",
       "required_education                0\n",
       "function                          0\n",
       "is_missing_required_experience    0\n",
       "is_missing_employment_type        0\n",
       "is_missing_industry               0\n",
       "is_missing_required_education     0\n",
       "is_missing_requirements           0\n",
       "is_missing_department             0\n",
       "is_missing_telecommuting          0\n",
       "is_missing_has_company_logo       0\n",
       "is_missing_has_questions          0\n",
       "is_missing_company_profile        0\n",
       "dtype: int64"
      ]
     },
     "execution_count": 23,
     "metadata": {},
     "output_type": "execute_result"
    }
   ],
   "source": [
    "data['is_missing_salary_range'] = data['salary_range'].isnull().astype(int)\n",
    "df[\"salary_range\"] = df[\"salary_range\"].fillna(\"0-0\")\n",
    "df.isna().sum()"
   ]
  },
  {
   "cell_type": "markdown",
   "metadata": {},
   "source": [
    "至此，所有缺失值处理完毕"
   ]
  },
  {
   "cell_type": "markdown",
   "metadata": {},
   "source": [
    "## 数据提取"
   ]
  },
  {
   "cell_type": "code",
   "execution_count": 24,
   "metadata": {},
   "outputs": [
    {
     "data": {
      "text/plain": [
       "title                              object\n",
       "description                        object\n",
       "requirements                       object\n",
       "company_profile                    object\n",
       "location                           object\n",
       "employment_type                    object\n",
       "industry                           object\n",
       "benefits                           object\n",
       "fraudulent                          int64\n",
       "department                         object\n",
       "telecommuting                     float64\n",
       "has_company_logo                  float64\n",
       "has_questions                     float64\n",
       "required_experience                object\n",
       "required_education                 object\n",
       "function                           object\n",
       "is_missing_required_experience      int64\n",
       "is_missing_employment_type          int64\n",
       "is_missing_industry                 int64\n",
       "is_missing_required_education       int64\n",
       "is_missing_requirements             int64\n",
       "is_missing_department               int64\n",
       "is_missing_telecommuting            int64\n",
       "is_missing_has_company_logo         int64\n",
       "is_missing_has_questions            int64\n",
       "is_missing_company_profile          int64\n",
       "salary                            float64\n",
       "dtype: object"
      ]
     },
     "execution_count": 24,
     "metadata": {},
     "output_type": "execute_result"
    }
   ],
   "source": [
    "df[['lower_salary', 'upper_salary']] = df['salary_range'].str.split(\"-\", expand=True)\n",
    "df[\"lower_salary\"] = df[\"lower_salary\"].astype(float)\n",
    "df[\"upper_salary\"] = df[\"upper_salary\"].astype(float)\n",
    "df[\"salary\"] = (df[\"lower_salary\"] + df[\"upper_salary\"]) / 2\n",
    "df = df.drop(columns=[\"salary_range\", \"lower_salary\", \"upper_salary\"])\n",
    "df.dtypes"
   ]
  },
  {
   "cell_type": "markdown",
   "metadata": {},
   "source": [
    "## 保存数据"
   ]
  },
  {
   "cell_type": "code",
   "execution_count": 25,
   "metadata": {},
   "outputs": [],
   "source": [
    "df.drop_duplicates(keep=\"first\", inplace=True) # 删除重复值\n",
    "df.to_feather(PROCESSED_DATA_DIR / \"processed_data.feather\") # 保存数据"
   ]
  },
  {
   "cell_type": "code",
   "execution_count": 26,
   "metadata": {},
   "outputs": [
    {
     "data": {
      "application/vnd.jupyter.widget-view+json": {
       "model_id": "af9b64710d9043d28bc2b09883cd8a5a",
       "version_major": 2,
       "version_minor": 0
      },
      "text/plain": [
       "Summarize dataset:   0%|          | 0/5 [00:00<?, ?it/s]"
      ]
     },
     "metadata": {},
     "output_type": "display_data"
    },
    {
     "name": "stderr",
     "output_type": "stream",
     "text": [
      "100%|██████████| 27/27 [00:01<00:00, 17.77it/s]\n"
     ]
    },
    {
     "data": {
      "application/vnd.jupyter.widget-view+json": {
       "model_id": "7a093006f0ba425294ae12f8a81ac5ef",
       "version_major": 2,
       "version_minor": 0
      },
      "text/plain": [
       "Generate report structure:   0%|          | 0/1 [00:00<?, ?it/s]"
      ]
     },
     "metadata": {},
     "output_type": "display_data"
    },
    {
     "data": {
      "application/vnd.jupyter.widget-view+json": {
       "model_id": "06c47397281c47bb9c747eb18210d7ec",
       "version_major": 2,
       "version_minor": 0
      },
      "text/plain": [
       "Render HTML:   0%|          | 0/1 [00:00<?, ?it/s]"
      ]
     },
     "metadata": {},
     "output_type": "display_data"
    },
    {
     "data": {
      "application/vnd.jupyter.widget-view+json": {
       "model_id": "b7c0158ce87e454495527c082ee9e744",
       "version_major": 2,
       "version_minor": 0
      },
      "text/plain": [
       "Export report to file:   0%|          | 0/1 [00:00<?, ?it/s]"
      ]
     },
     "metadata": {},
     "output_type": "display_data"
    }
   ],
   "source": [
    "profile = yp.ProfileReport(df, title=\"Fake Job Postings Dataset Analysis Report\")\n",
    "profile.to_file(TEMPLATES_DIR / \"report.html\")"
   ]
  }
 ],
 "metadata": {
  "kernelspec": {
   "display_name": ".venv",
   "language": "python",
   "name": "python3"
  },
  "language_info": {
   "codemirror_mode": {
    "name": "ipython",
    "version": 3
   },
   "file_extension": ".py",
   "mimetype": "text/x-python",
   "name": "python",
   "nbconvert_exporter": "python",
   "pygments_lexer": "ipython3",
   "version": "3.10.15"
  }
 },
 "nbformat": 4,
 "nbformat_minor": 2
}
